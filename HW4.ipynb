{
 "cells": [
  {
   "cell_type": "code",
   "execution_count": 5,
   "id": "8e7ef61c",
   "metadata": {},
   "outputs": [
    {
     "ename": "ModuleNotFoundError",
     "evalue": "No module named 'tensorflow'",
     "output_type": "error",
     "traceback": [
      "\u001b[1;31m---------------------------------------------------------------------------\u001b[0m",
      "\u001b[1;31mModuleNotFoundError\u001b[0m                       Traceback (most recent call last)",
      "\u001b[1;32m<ipython-input-5-5165f0477095>\u001b[0m in \u001b[0;36m<module>\u001b[1;34m\u001b[0m\n\u001b[0;32m     28\u001b[0m \u001b[1;32mimport\u001b[0m \u001b[0mstring\u001b[0m\u001b[1;33m\u001b[0m\u001b[1;33m\u001b[0m\u001b[0m\n\u001b[0;32m     29\u001b[0m \u001b[1;32mfrom\u001b[0m \u001b[0mscipy\u001b[0m\u001b[1;33m.\u001b[0m\u001b[0mspatial\u001b[0m \u001b[1;32mimport\u001b[0m \u001b[0mdistance\u001b[0m\u001b[1;33m\u001b[0m\u001b[1;33m\u001b[0m\u001b[0m\n\u001b[1;32m---> 30\u001b[1;33m \u001b[1;32mimport\u001b[0m \u001b[0mtensorflow\u001b[0m \u001b[1;32mas\u001b[0m \u001b[0mtf\u001b[0m\u001b[1;33m\u001b[0m\u001b[1;33m\u001b[0m\u001b[0m\n\u001b[0m",
      "\u001b[1;31mModuleNotFoundError\u001b[0m: No module named 'tensorflow'"
     ]
    }
   ],
   "source": [
    "import pandas as pd\n",
    "import numpy as np\n",
    "import seaborn as sns\n",
    "import os\n",
    "import json\n",
    "import matplotlib.pyplot as plt\n",
    "import scipy\n",
    "import dateutil.parser\n",
    "from sklearn.preprocessing import OneHotEncoder\n",
    "from sklearn import linear_model\n",
    "from sklearn.pipeline import Pipeline\n",
    "from sklearn.compose import ColumnTransformer\n",
    "from sklearn.model_selection import train_test_split\n",
    "import requests\n",
    "import json\n",
    "from collections import defaultdict\n",
    "import gzip\n",
    "import csv\n",
    "import random\n",
    "from sklearn.metrics import jaccard_score \n",
    "import re\n",
    "from sklearn.feature_extraction.text import CountVectorizer\n",
    "from sklearn.model_selection import GridSearchCV\n",
    "from nltk.stem.porter import *\n",
    "from sklearn import linear_model\n",
    "from sklearn.manifold import TSNE\n",
    "import math\n",
    "import string\n",
    "from scipy.spatial import distance"
   ]
  },
  {
   "cell_type": "code",
   "execution_count": 2,
   "id": "76f4d331",
   "metadata": {},
   "outputs": [],
   "source": [
    "def readGz(path):\n",
    "    for l in gzip.open(path, 'rt', encoding = \"UTF-8\"):\n",
    "        yield eval(l)"
   ]
  },
  {
   "cell_type": "code",
   "execution_count": 3,
   "id": "8166727e",
   "metadata": {},
   "outputs": [],
   "source": [
    "# QUESTION 1\n",
    "\n",
    "fp = os.path.join('data', \"goodreads_reviews_comics_graphic.json\")\n",
    "with open(fp) as j:\n",
    "    data = j.readlines()\n",
    "    data = list(map(json.loads, data))"
   ]
  },
  {
   "cell_type": "code",
   "execution_count": 4,
   "id": "ad3e1986",
   "metadata": {},
   "outputs": [],
   "source": [
    "df = pd.DataFrame(data)[:20000]\n"
   ]
  },
  {
   "cell_type": "code",
   "execution_count": 5,
   "id": "c6d5951c",
   "metadata": {},
   "outputs": [],
   "source": [
    "df['review_text'] = df['review_text'].apply(lambda x: re.sub(\"[^\\w|^ ]+\",\"\", x).lower())"
   ]
  },
  {
   "cell_type": "code",
   "execution_count": 6,
   "id": "69dc8385",
   "metadata": {},
   "outputs": [],
   "source": [
    "train = df[:10000]\n",
    "test = df[10000:]"
   ]
  },
  {
   "cell_type": "code",
   "execution_count": 7,
   "id": "6edcd4e5",
   "metadata": {},
   "outputs": [],
   "source": [
    "# Unigram\n",
    "\n",
    "countVec = CountVectorizer(ngram_range=(1,1), max_features = 1000, tokenizer=lambda txt: txt.split())\n",
    "    #transform\n",
    "countData = countVec.fit_transform(train['review_text'])\n",
    "\n",
    "    #create dataframe\n",
    "cvDataframeTrain=pd.DataFrame(countData.toarray(),columns=countVec.get_feature_names())"
   ]
  },
  {
   "cell_type": "code",
   "execution_count": 8,
   "id": "a5461132",
   "metadata": {},
   "outputs": [
    {
     "data": {
      "text/plain": [
       "Ridge()"
      ]
     },
     "execution_count": 8,
     "metadata": {},
     "output_type": "execute_result"
    }
   ],
   "source": [
    "regr = linear_model.Ridge()\n",
    "regr.fit(cvDataframeTrain, train.rating)"
   ]
  },
  {
   "cell_type": "code",
   "execution_count": 9,
   "id": "09eb1438",
   "metadata": {},
   "outputs": [],
   "source": [
    "testData = countVec.transform(test['review_text'])\n",
    "cvDataframeTest=pd.DataFrame(testData.toarray(),columns=countVec.get_feature_names())"
   ]
  },
  {
   "cell_type": "code",
   "execution_count": 10,
   "id": "791d1776",
   "metadata": {},
   "outputs": [
    {
     "data": {
      "text/plain": [
       "1.227067214304324"
      ]
     },
     "execution_count": 10,
     "metadata": {},
     "output_type": "execute_result"
    }
   ],
   "source": [
    "# MSE\n",
    "MSE = np.mean((regr.predict(cvDataframeTest) - test.rating)**2)\n",
    "MSE"
   ]
  },
  {
   "cell_type": "code",
   "execution_count": 11,
   "id": "34f182b9",
   "metadata": {},
   "outputs": [],
   "source": [
    "words = pd.DataFrame(list(zip(countVec.get_feature_names(), regr.coef_)), columns = ['words', 'coef'])"
   ]
  },
  {
   "cell_type": "code",
   "execution_count": 12,
   "id": "4bc91106",
   "metadata": {
    "scrolled": true
   },
   "outputs": [
    {
     "data": {
      "text/html": [
       "<div>\n",
       "<style scoped>\n",
       "    .dataframe tbody tr th:only-of-type {\n",
       "        vertical-align: middle;\n",
       "    }\n",
       "\n",
       "    .dataframe tbody tr th {\n",
       "        vertical-align: top;\n",
       "    }\n",
       "\n",
       "    .dataframe thead th {\n",
       "        text-align: right;\n",
       "    }\n",
       "</style>\n",
       "<table border=\"1\" class=\"dataframe\">\n",
       "  <thead>\n",
       "    <tr style=\"text-align: right;\">\n",
       "      <th></th>\n",
       "      <th>words</th>\n",
       "      <th>coef</th>\n",
       "    </tr>\n",
       "  </thead>\n",
       "  <tbody>\n",
       "    <tr>\n",
       "      <th>926</th>\n",
       "      <td>wait</td>\n",
       "      <td>0.428206</td>\n",
       "    </tr>\n",
       "    <tr>\n",
       "      <th>86</th>\n",
       "      <td>beautifully</td>\n",
       "      <td>0.411250</td>\n",
       "    </tr>\n",
       "    <tr>\n",
       "      <th>746</th>\n",
       "      <td>serie</td>\n",
       "      <td>0.371593</td>\n",
       "    </tr>\n",
       "    <tr>\n",
       "      <th>999</th>\n",
       "      <td>yourself</td>\n",
       "      <td>0.355561</td>\n",
       "    </tr>\n",
       "    <tr>\n",
       "      <th>9</th>\n",
       "      <td>5</td>\n",
       "      <td>0.340172</td>\n",
       "    </tr>\n",
       "  </tbody>\n",
       "</table>\n",
       "</div>"
      ],
      "text/plain": [
       "           words      coef\n",
       "926         wait  0.428206\n",
       "86   beautifully  0.411250\n",
       "746        serie  0.371593\n",
       "999     yourself  0.355561\n",
       "9              5  0.340172"
      ]
     },
     "execution_count": 12,
     "metadata": {},
     "output_type": "execute_result"
    }
   ],
   "source": [
    "# Top 5 Positive unigrams\n",
    "words.sort_values(by = ['coef'], ascending = False)[:5]"
   ]
  },
  {
   "cell_type": "code",
   "execution_count": 13,
   "id": "4c58b244",
   "metadata": {},
   "outputs": [
    {
     "data": {
      "text/html": [
       "<div>\n",
       "<style scoped>\n",
       "    .dataframe tbody tr th:only-of-type {\n",
       "        vertical-align: middle;\n",
       "    }\n",
       "\n",
       "    .dataframe tbody tr th {\n",
       "        vertical-align: top;\n",
       "    }\n",
       "\n",
       "    .dataframe thead th {\n",
       "        text-align: right;\n",
       "    }\n",
       "</style>\n",
       "<table border=\"1\" class=\"dataframe\">\n",
       "  <thead>\n",
       "    <tr style=\"text-align: right;\">\n",
       "      <th></th>\n",
       "      <th>words</th>\n",
       "      <th>coef</th>\n",
       "    </tr>\n",
       "  </thead>\n",
       "  <tbody>\n",
       "    <tr>\n",
       "      <th>225</th>\n",
       "      <td>disappointing</td>\n",
       "      <td>-0.540662</td>\n",
       "    </tr>\n",
       "    <tr>\n",
       "      <th>113</th>\n",
       "      <td>boring</td>\n",
       "      <td>-0.531866</td>\n",
       "    </tr>\n",
       "    <tr>\n",
       "      <th>922</th>\n",
       "      <td>visuals</td>\n",
       "      <td>-0.411806</td>\n",
       "    </tr>\n",
       "    <tr>\n",
       "      <th>540</th>\n",
       "      <td>mangas</td>\n",
       "      <td>-0.368739</td>\n",
       "    </tr>\n",
       "    <tr>\n",
       "      <th>730</th>\n",
       "      <td>says</td>\n",
       "      <td>-0.345934</td>\n",
       "    </tr>\n",
       "  </tbody>\n",
       "</table>\n",
       "</div>"
      ],
      "text/plain": [
       "             words      coef\n",
       "225  disappointing -0.540662\n",
       "113         boring -0.531866\n",
       "922        visuals -0.411806\n",
       "540         mangas -0.368739\n",
       "730           says -0.345934"
      ]
     },
     "execution_count": 13,
     "metadata": {},
     "output_type": "execute_result"
    }
   ],
   "source": [
    "# Top 5 Negative unigrams\n",
    "words.sort_values(by = ['coef'], ascending = True)[:5]"
   ]
  },
  {
   "cell_type": "code",
   "execution_count": 14,
   "id": "0a73621c",
   "metadata": {},
   "outputs": [],
   "source": [
    "# Bigrams\n",
    "\n",
    "countVec = CountVectorizer(ngram_range=(2,2), max_features = 1000, tokenizer=lambda txt: txt.split())\n",
    "    #transform\n",
    "countData = countVec.fit_transform(train['review_text'])\n",
    "\n",
    "    #create dataframe\n",
    "cvDataframeTrain=pd.DataFrame(countData.toarray(),columns=countVec.get_feature_names())"
   ]
  },
  {
   "cell_type": "code",
   "execution_count": 15,
   "id": "cdd2a130",
   "metadata": {},
   "outputs": [
    {
     "data": {
      "text/plain": [
       "Ridge()"
      ]
     },
     "execution_count": 15,
     "metadata": {},
     "output_type": "execute_result"
    }
   ],
   "source": [
    "regr = linear_model.Ridge()\n",
    "regr.fit(cvDataframeTrain, train.rating)"
   ]
  },
  {
   "cell_type": "code",
   "execution_count": 16,
   "id": "9af2c259",
   "metadata": {},
   "outputs": [],
   "source": [
    "testData = countVec.transform(test['review_text'])\n",
    "cvDataframeTest=pd.DataFrame(testData.toarray(),columns=countVec.get_feature_names())"
   ]
  },
  {
   "cell_type": "code",
   "execution_count": 17,
   "id": "5b79f72e",
   "metadata": {},
   "outputs": [
    {
     "data": {
      "text/plain": [
       "1.2853904634654927"
      ]
     },
     "execution_count": 17,
     "metadata": {},
     "output_type": "execute_result"
    }
   ],
   "source": [
    "# MSE\n",
    "MSE = np.mean((regr.predict(cvDataframeTest) - test.rating)**2)\n",
    "MSE"
   ]
  },
  {
   "cell_type": "code",
   "execution_count": 18,
   "id": "7322ad84",
   "metadata": {},
   "outputs": [],
   "source": [
    "words = pd.DataFrame(list(zip(countVec.get_feature_names(), regr.coef_)), columns = ['words', 'coef'])"
   ]
  },
  {
   "cell_type": "code",
   "execution_count": 19,
   "id": "de49648b",
   "metadata": {},
   "outputs": [
    {
     "data": {
      "text/html": [
       "<div>\n",
       "<style scoped>\n",
       "    .dataframe tbody tr th:only-of-type {\n",
       "        vertical-align: middle;\n",
       "    }\n",
       "\n",
       "    .dataframe tbody tr th {\n",
       "        vertical-align: top;\n",
       "    }\n",
       "\n",
       "    .dataframe thead th {\n",
       "        text-align: right;\n",
       "    }\n",
       "</style>\n",
       "<table border=\"1\" class=\"dataframe\">\n",
       "  <thead>\n",
       "    <tr style=\"text-align: right;\">\n",
       "      <th></th>\n",
       "      <th>words</th>\n",
       "      <th>coef</th>\n",
       "    </tr>\n",
       "  </thead>\n",
       "  <tbody>\n",
       "    <tr>\n",
       "      <th>266</th>\n",
       "      <td>forget to</td>\n",
       "      <td>0.772505</td>\n",
       "    </tr>\n",
       "    <tr>\n",
       "      <th>678</th>\n",
       "      <td>stay tuned</td>\n",
       "      <td>0.704170</td>\n",
       "    </tr>\n",
       "    <tr>\n",
       "      <th>190</th>\n",
       "      <td>cant wait</td>\n",
       "      <td>0.684432</td>\n",
       "    </tr>\n",
       "    <tr>\n",
       "      <th>2</th>\n",
       "      <td>5 stars</td>\n",
       "      <td>0.647770</td>\n",
       "    </tr>\n",
       "    <tr>\n",
       "      <th>593</th>\n",
       "      <td>or manga</td>\n",
       "      <td>0.572358</td>\n",
       "    </tr>\n",
       "  </tbody>\n",
       "</table>\n",
       "</div>"
      ],
      "text/plain": [
       "          words      coef\n",
       "266   forget to  0.772505\n",
       "678  stay tuned  0.704170\n",
       "190   cant wait  0.684432\n",
       "2       5 stars  0.647770\n",
       "593    or manga  0.572358"
      ]
     },
     "execution_count": 19,
     "metadata": {},
     "output_type": "execute_result"
    }
   ],
   "source": [
    "# Top 5 Positive unigrams\n",
    "words.sort_values(by = ['coef'], ascending = False)[:5]"
   ]
  },
  {
   "cell_type": "code",
   "execution_count": 20,
   "id": "5a92d0de",
   "metadata": {},
   "outputs": [
    {
     "data": {
      "text/html": [
       "<div>\n",
       "<style scoped>\n",
       "    .dataframe tbody tr th:only-of-type {\n",
       "        vertical-align: middle;\n",
       "    }\n",
       "\n",
       "    .dataframe tbody tr th {\n",
       "        vertical-align: top;\n",
       "    }\n",
       "\n",
       "    .dataframe thead th {\n",
       "        text-align: right;\n",
       "    }\n",
       "</style>\n",
       "<table border=\"1\" class=\"dataframe\">\n",
       "  <thead>\n",
       "    <tr style=\"text-align: right;\">\n",
       "      <th></th>\n",
       "      <th>words</th>\n",
       "      <th>coef</th>\n",
       "    </tr>\n",
       "  </thead>\n",
       "  <tbody>\n",
       "    <tr>\n",
       "      <th>897</th>\n",
       "      <td>tuned for</td>\n",
       "      <td>-1.276263</td>\n",
       "    </tr>\n",
       "    <tr>\n",
       "      <th>852</th>\n",
       "      <td>thoughts below</td>\n",
       "      <td>-0.842866</td>\n",
       "    </tr>\n",
       "    <tr>\n",
       "      <th>806</th>\n",
       "      <td>the worst</td>\n",
       "      <td>-0.602966</td>\n",
       "    </tr>\n",
       "    <tr>\n",
       "      <th>998</th>\n",
       "      <td>your next</td>\n",
       "      <td>-0.599774</td>\n",
       "    </tr>\n",
       "    <tr>\n",
       "      <th>4</th>\n",
       "      <td>a bad</td>\n",
       "      <td>-0.549110</td>\n",
       "    </tr>\n",
       "  </tbody>\n",
       "</table>\n",
       "</div>"
      ],
      "text/plain": [
       "              words      coef\n",
       "897       tuned for -1.276263\n",
       "852  thoughts below -0.842866\n",
       "806       the worst -0.602966\n",
       "998       your next -0.599774\n",
       "4             a bad -0.549110"
      ]
     },
     "execution_count": 20,
     "metadata": {},
     "output_type": "execute_result"
    }
   ],
   "source": [
    "# Top 5 Negative unigrams\n",
    "words.sort_values(by = ['coef'], ascending = True)[:5]"
   ]
  },
  {
   "cell_type": "code",
   "execution_count": 21,
   "id": "08815bad",
   "metadata": {},
   "outputs": [],
   "source": [
    "# Both Uni and Bigrams\n",
    "\n",
    "countVec = CountVectorizer(ngram_range=(1,2), max_features = 1000, tokenizer=lambda txt: txt.split())\n",
    "    #transform\n",
    "countData = countVec.fit_transform(train['review_text'])\n",
    "\n",
    "    #create dataframe\n",
    "cvDataframeTrain=pd.DataFrame(countData.toarray(),columns=countVec.get_feature_names())"
   ]
  },
  {
   "cell_type": "code",
   "execution_count": 22,
   "id": "a7f851b5",
   "metadata": {},
   "outputs": [
    {
     "data": {
      "text/plain": [
       "Ridge()"
      ]
     },
     "execution_count": 22,
     "metadata": {},
     "output_type": "execute_result"
    }
   ],
   "source": [
    "regr = linear_model.Ridge()\n",
    "regr.fit(cvDataframeTrain, train.rating)"
   ]
  },
  {
   "cell_type": "code",
   "execution_count": 23,
   "id": "c36f2c59",
   "metadata": {},
   "outputs": [],
   "source": [
    "testData = countVec.transform(test['review_text'])\n",
    "cvDataframeTest=pd.DataFrame(testData.toarray(),columns=countVec.get_feature_names())"
   ]
  },
  {
   "cell_type": "code",
   "execution_count": 24,
   "id": "e3d4b486",
   "metadata": {},
   "outputs": [
    {
     "data": {
      "text/plain": [
       "1.2199583191395396"
      ]
     },
     "execution_count": 24,
     "metadata": {},
     "output_type": "execute_result"
    }
   ],
   "source": [
    "# MSE\n",
    "\n",
    "MSE = np.mean((regr.predict(cvDataframeTest) - test.rating)**2)\n",
    "MSE"
   ]
  },
  {
   "cell_type": "code",
   "execution_count": 25,
   "id": "68fb82ca",
   "metadata": {},
   "outputs": [],
   "source": [
    "words = pd.DataFrame(list(zip(countVec.get_feature_names(), regr.coef_)), columns = ['words', 'coef'])"
   ]
  },
  {
   "cell_type": "code",
   "execution_count": 26,
   "id": "2378d823",
   "metadata": {},
   "outputs": [
    {
     "data": {
      "text/html": [
       "<div>\n",
       "<style scoped>\n",
       "    .dataframe tbody tr th:only-of-type {\n",
       "        vertical-align: middle;\n",
       "    }\n",
       "\n",
       "    .dataframe tbody tr th {\n",
       "        vertical-align: top;\n",
       "    }\n",
       "\n",
       "    .dataframe thead th {\n",
       "        text-align: right;\n",
       "    }\n",
       "</style>\n",
       "<table border=\"1\" class=\"dataframe\">\n",
       "  <thead>\n",
       "    <tr style=\"text-align: right;\">\n",
       "      <th></th>\n",
       "      <th>words</th>\n",
       "      <th>coef</th>\n",
       "    </tr>\n",
       "  </thead>\n",
       "  <tbody>\n",
       "    <tr>\n",
       "      <th>672</th>\n",
       "      <td>reviews as</td>\n",
       "      <td>0.944096</td>\n",
       "    </tr>\n",
       "    <tr>\n",
       "      <th>984</th>\n",
       "      <td>xoxo</td>\n",
       "      <td>0.864363</td>\n",
       "    </tr>\n",
       "    <tr>\n",
       "      <th>894</th>\n",
       "      <td>tuned</td>\n",
       "      <td>0.781009</td>\n",
       "    </tr>\n",
       "    <tr>\n",
       "      <th>523</th>\n",
       "      <td>manga happy</td>\n",
       "      <td>0.672681</td>\n",
       "    </tr>\n",
       "    <tr>\n",
       "      <th>220</th>\n",
       "      <td>due to</td>\n",
       "      <td>0.666516</td>\n",
       "    </tr>\n",
       "  </tbody>\n",
       "</table>\n",
       "</div>"
      ],
      "text/plain": [
       "           words      coef\n",
       "672   reviews as  0.944096\n",
       "984         xoxo  0.864363\n",
       "894        tuned  0.781009\n",
       "523  manga happy  0.672681\n",
       "220       due to  0.666516"
      ]
     },
     "execution_count": 26,
     "metadata": {},
     "output_type": "execute_result"
    }
   ],
   "source": [
    "# Top 5 Positive unigrams\n",
    "words.sort_values(by = ['coef'], ascending = False)[:5]"
   ]
  },
  {
   "cell_type": "code",
   "execution_count": 27,
   "id": "0b45f861",
   "metadata": {},
   "outputs": [
    {
     "data": {
      "text/html": [
       "<div>\n",
       "<style scoped>\n",
       "    .dataframe tbody tr th:only-of-type {\n",
       "        vertical-align: middle;\n",
       "    }\n",
       "\n",
       "    .dataframe tbody tr th {\n",
       "        vertical-align: top;\n",
       "    }\n",
       "\n",
       "    .dataframe thead th {\n",
       "        text-align: right;\n",
       "    }\n",
       "</style>\n",
       "<table border=\"1\" class=\"dataframe\">\n",
       "  <thead>\n",
       "    <tr style=\"text-align: right;\">\n",
       "      <th></th>\n",
       "      <th>words</th>\n",
       "      <th>coef</th>\n",
       "    </tr>\n",
       "  </thead>\n",
       "  <tbody>\n",
       "    <tr>\n",
       "      <th>895</th>\n",
       "      <td>tuned for</td>\n",
       "      <td>-1.148310</td>\n",
       "    </tr>\n",
       "    <tr>\n",
       "      <th>87</th>\n",
       "      <td>as promos</td>\n",
       "      <td>-0.661355</td>\n",
       "    </tr>\n",
       "    <tr>\n",
       "      <th>534</th>\n",
       "      <td>miss your</td>\n",
       "      <td>-0.634169</td>\n",
       "    </tr>\n",
       "    <tr>\n",
       "      <th>670</th>\n",
       "      <td>review katies</td>\n",
       "      <td>-0.547478</td>\n",
       "    </tr>\n",
       "    <tr>\n",
       "      <th>985</th>\n",
       "      <td>xoxo katie</td>\n",
       "      <td>-0.540229</td>\n",
       "    </tr>\n",
       "  </tbody>\n",
       "</table>\n",
       "</div>"
      ],
      "text/plain": [
       "             words      coef\n",
       "895      tuned for -1.148310\n",
       "87       as promos -0.661355\n",
       "534      miss your -0.634169\n",
       "670  review katies -0.547478\n",
       "985     xoxo katie -0.540229"
      ]
     },
     "execution_count": 27,
     "metadata": {},
     "output_type": "execute_result"
    }
   ],
   "source": [
    "# Top 5 Negative unigrams\n",
    "words.sort_values(by = ['coef'], ascending = True)[:5]"
   ]
  },
  {
   "cell_type": "code",
   "execution_count": 28,
   "id": "9ff45dc0",
   "metadata": {},
   "outputs": [],
   "source": [
    "# QUESTION 2"
   ]
  },
  {
   "cell_type": "code",
   "execution_count": 29,
   "id": "ea2e8f31",
   "metadata": {},
   "outputs": [],
   "source": [
    "punctuation = set(string.punctuation)\n",
    "wordCount = defaultdict(int)\n",
    "for d in data[:10000]:\n",
    "    r = ''.join([c for c in d['review_text'].lower() if not c in punctuation])\n",
    "    for w in r.split():\n",
    "        wordCount[w] += 1"
   ]
  },
  {
   "cell_type": "code",
   "execution_count": 34,
   "id": "c296388f",
   "metadata": {},
   "outputs": [],
   "source": [
    "idf = defaultdict(int)\n",
    "for d in data[:10000]:\n",
    "    r = ''.join([c for c in d['review_text'].lower() if not c in punctuation])\n",
    "    for w in set(r.split()):\n",
    "        idf[w] += 1\n",
    "        \n",
    "counts = [(wordCount[w], w) for w in wordCount]\n",
    "counts.sort()\n",
    "counts.reverse()\n",
    "words = [x[1] for x in counts[:1000]]"
   ]
  },
  {
   "cell_type": "code",
   "execution_count": 35,
   "id": "b4f1083f",
   "metadata": {},
   "outputs": [],
   "source": [
    "tf = defaultdict(int)\n",
    "r = ''.join([c for c in train['review_text'].iloc[0]])\n",
    "for w in r.split():\n",
    "    # Note = rather than +=, different versions of tf could be used instead\n",
    "    tf[w] = 1\n",
    "    \n",
    "tfidf = dict(zip(words,[tf[w] * math.log2(len(data[:10000]) / idf[w]) for w in words]))\n",
    "tfidfQuery = [tf[w] * math.log2(len(data[:10000]) / idf[w]) for w in words]"
   ]
  },
  {
   "cell_type": "code",
   "execution_count": 36,
   "id": "b5e08809",
   "metadata": {},
   "outputs": [],
   "source": [
    "def Cosine(x1,x2):\n",
    "    numer = 0\n",
    "    norm1 = 0\n",
    "    norm2 = 0\n",
    "    for a1,a2 in zip(x1,x2):\n",
    "        numer += a1*a2\n",
    "        norm1 += a1**2\n",
    "        norm2 += a2**2\n",
    "    if norm1*norm2:\n",
    "        return numer / math.sqrt(norm1*norm2)\n",
    "    return 0"
   ]
  },
  {
   "cell_type": "code",
   "execution_count": 42,
   "id": "630ca04a",
   "metadata": {},
   "outputs": [],
   "source": [
    "similarities = []\n",
    "for rev2 in data[:10000]:\n",
    "    tf = defaultdict(int)\n",
    "    r = ''.join([c for c in rev2['review_text'].lower() if not c in punctuation])\n",
    "    for w in r.split():\n",
    "        # Note = rather than +=\n",
    "        tf[w] = 1\n",
    "    tfidf2 = [tf[w] * math.log2(len(data[:10000]) / idf[w]) for w in words]\n",
    "    similarities.append((Cosine(tfidfQuery, tfidf2), rev2['review_text'], rev2['review_id']))"
   ]
  },
  {
   "cell_type": "code",
   "execution_count": 43,
   "id": "d4d0e940",
   "metadata": {},
   "outputs": [
    {
     "data": {
      "text/plain": [
       "(0.31303332977602777,\n",
       " 'I am well aware that James Robinson isn\\'t to every readers taste. That said, much of his style about which others complain are exactly the things I most love. He focuses on the basics of story telling -- character, setting, mood -- and never forgets that the excitement of action remains directly proportional to how much a reader cares about the characters. No where has he so demonstrated his gifts (and here fans of Golden Age may reasonably disagree) than on his magisterial Starman. \"The Shade\" gives readers the chance to revisit with some of Robinson\\'s finest characters -- not the least of which being the Opal City, which while he wasn\\'t the author to name, he was certainly the magician who brought it to life. \\n As with Starman, Robinson demonstrates in \"The Shade\" the extraordinary depth of his knowledge of the Golden Age. I\\'m pretty good on the topic, but even I found myself needing Google to locate Madam Fatal (a man who fought crime dressed as a woman! Who said that comics only turned mature recently?). And even Robinson\\'s newer characters, such as the Spanish crime fighting vampire La Sangre, possess a wonderful flare that kindles some light from the Golden Age. \\n Getting deep into the plot of the book would be giving too much away. Suffice to say that when Richard Swift (the Shade), a man alive for more than a century finds his past catching up with him, he must delve back into his own earlier days to solve the mystery. A rip-roaring great read! \\n A word about the artists of this book. I\\'m not usually a fan of multiple artist books, preferring the continuity of a single pen and brush. Yet if anything the array of artistic talent only adds to the books excellence. Each artist somehow finds his place in the story and makes the world his own. Gene Ha of Top 10 fame is as always excellent. Cooke captures a certain wonderful Golden Age sensibility. Hamner\\'s thick brush strokes bring The Shades shadow tendrils to life. \\n If you\\'re just starting in Robinson\\'s world, you\\'ll need a few pages to gain your footing and then love this book. Starman fans will find here the delight of a party where you get to again encounter friends too long absent. Either way, you\\'ll want to step into the Shade.',\n",
       " 'a0b1123732b575b793fccea8edf6ed86')"
      ]
     },
     "execution_count": 43,
     "metadata": {},
     "output_type": "execute_result"
    }
   ],
   "source": [
    "similarities.sort(reverse = True)\n",
    "similarities[1]"
   ]
  },
  {
   "cell_type": "code",
   "execution_count": 99,
   "id": "b1f77f7a",
   "metadata": {},
   "outputs": [],
   "source": [
    "# QUESTION 3\n",
    "\n",
    "temp = df.groupby(\"user_id\").size()\n",
    "more_than_2_row = temp[temp>2]\n",
    "df_more_than_2_row = more_than_2_row.reset_index()"
   ]
  },
  {
   "cell_type": "code",
   "execution_count": 100,
   "id": "a76a2445",
   "metadata": {},
   "outputs": [],
   "source": [
    "ids = list(df_more_than_2_row.user_id.to_numpy())"
   ]
  },
  {
   "cell_type": "code",
   "execution_count": 101,
   "id": "663e0baa",
   "metadata": {},
   "outputs": [],
   "source": [
    "dfInteractions = df[df['user_id'].isin(ids)]"
   ]
  },
  {
   "cell_type": "code",
   "execution_count": 102,
   "id": "db84614e",
   "metadata": {
    "scrolled": true
   },
   "outputs": [
    {
     "name": "stderr",
     "output_type": "stream",
     "text": [
      "<ipython-input-102-cf7f8253e1db>:1: SettingWithCopyWarning: \n",
      "A value is trying to be set on a copy of a slice from a DataFrame.\n",
      "Try using .loc[row_indexer,col_indexer] = value instead\n",
      "\n",
      "See the caveats in the documentation: https://pandas.pydata.org/pandas-docs/stable/user_guide/indexing.html#returning-a-view-versus-a-copy\n",
      "  dfInteractions['date_added'] = pd.to_datetime(dfInteractions['date_added'])\n"
     ]
    }
   ],
   "source": [
    "dfInteractions['date_added'] = pd.to_datetime(dfInteractions['date_added'])"
   ]
  },
  {
   "cell_type": "code",
   "execution_count": 104,
   "id": "4157efb1",
   "metadata": {
    "scrolled": true
   },
   "outputs": [],
   "source": [
    "dfInteractions = dfInteractions.sort_values(by = ['user_id', 'date_added']).reset_index(drop = True)"
   ]
  },
  {
   "cell_type": "code",
   "execution_count": 105,
   "id": "d6407c8c",
   "metadata": {},
   "outputs": [],
   "source": [
    "testSet = []\n",
    "train = dfInteractions\n",
    "for n in range(1, dfInteractions.shape[0]):\n",
    "    if dfInteractions.iloc[n-1]['user_id'] != dfInteractions.iloc[n]['user_id']:\n",
    "        testSet.append(dfInteractions.iloc[n-1])\n",
    "    else:\n",
    "        train.drop(n-1)"
   ]
  },
  {
   "cell_type": "code",
   "execution_count": 106,
   "id": "d75aa65a",
   "metadata": {},
   "outputs": [],
   "source": [
    "test = pd.DataFrame(testSet)\n",
    "train = train.reset_index(drop = True)"
   ]
  },
  {
   "cell_type": "code",
   "execution_count": 107,
   "id": "5fee93e2",
   "metadata": {},
   "outputs": [
    {
     "data": {
      "text/html": [
       "<div>\n",
       "<style scoped>\n",
       "    .dataframe tbody tr th:only-of-type {\n",
       "        vertical-align: middle;\n",
       "    }\n",
       "\n",
       "    .dataframe tbody tr th {\n",
       "        vertical-align: top;\n",
       "    }\n",
       "\n",
       "    .dataframe thead th {\n",
       "        text-align: right;\n",
       "    }\n",
       "</style>\n",
       "<table border=\"1\" class=\"dataframe\">\n",
       "  <thead>\n",
       "    <tr style=\"text-align: right;\">\n",
       "      <th></th>\n",
       "      <th>user_id</th>\n",
       "      <th>book_id</th>\n",
       "      <th>review_id</th>\n",
       "      <th>rating</th>\n",
       "      <th>review_text</th>\n",
       "      <th>date_added</th>\n",
       "      <th>date_updated</th>\n",
       "      <th>read_at</th>\n",
       "      <th>started_at</th>\n",
       "      <th>n_votes</th>\n",
       "      <th>n_comments</th>\n",
       "    </tr>\n",
       "  </thead>\n",
       "  <tbody>\n",
       "    <tr>\n",
       "      <th>0</th>\n",
       "      <td>004d5e96c8a318aeb006af50f8cc949c</td>\n",
       "      <td>17571564</td>\n",
       "      <td>c0892c59cab3b0c2518dbcc61888186b</td>\n",
       "      <td>1</td>\n",
       "      <td>i am unsure if this book is supposed to be fun...</td>\n",
       "      <td>2014-01-04 11:28:18-08:00</td>\n",
       "      <td>Wed Jun 04 11:35:45 -0700 2014</td>\n",
       "      <td>Wed Jun 04 11:35:45 -0700 2014</td>\n",
       "      <td>Wed Jun 04 00:00:00 -0700 2014</td>\n",
       "      <td>1</td>\n",
       "      <td>0</td>\n",
       "    </tr>\n",
       "    <tr>\n",
       "      <th>1</th>\n",
       "      <td>004d5e96c8a318aeb006af50f8cc949c</td>\n",
       "      <td>15789361</td>\n",
       "      <td>713d2060267145692291a9acaab4ab23</td>\n",
       "      <td>3</td>\n",
       "      <td>i like the manga version of the story much mor...</td>\n",
       "      <td>2014-01-04 11:34:49-08:00</td>\n",
       "      <td>Tue Nov 11 20:50:25 -0800 2014</td>\n",
       "      <td>Tue Nov 11 00:00:00 -0800 2014</td>\n",
       "      <td>Fri Nov 07 00:00:00 -0800 2014</td>\n",
       "      <td>0</td>\n",
       "      <td>0</td>\n",
       "    </tr>\n",
       "    <tr>\n",
       "      <th>2</th>\n",
       "      <td>004d5e96c8a318aeb006af50f8cc949c</td>\n",
       "      <td>15704307</td>\n",
       "      <td>cec66320ca1704340bea3bd034fd642f</td>\n",
       "      <td>5</td>\n",
       "      <td>awesome  beautiful graphics and a great story ...</td>\n",
       "      <td>2014-05-11 17:02:58-07:00</td>\n",
       "      <td>Thu Jan 14 17:25:20 -0800 2016</td>\n",
       "      <td>Wed Aug 13 16:35:34 -0700 2014</td>\n",
       "      <td>Wed Aug 13 00:00:00 -0700 2014</td>\n",
       "      <td>2</td>\n",
       "      <td>0</td>\n",
       "    </tr>\n",
       "    <tr>\n",
       "      <th>3</th>\n",
       "      <td>004d5e96c8a318aeb006af50f8cc949c</td>\n",
       "      <td>17131869</td>\n",
       "      <td>6466c273bb0e1962687c4f53b29b88ca</td>\n",
       "      <td>5</td>\n",
       "      <td>how can i use ordinary words to emphasize how ...</td>\n",
       "      <td>2014-11-11 20:47:49-08:00</td>\n",
       "      <td>Mon Feb 08 17:24:52 -0800 2016</td>\n",
       "      <td>Sun Dec 07 00:00:00 -0800 2014</td>\n",
       "      <td>Sun Dec 07 00:00:00 -0800 2014</td>\n",
       "      <td>1</td>\n",
       "      <td>0</td>\n",
       "    </tr>\n",
       "    <tr>\n",
       "      <th>4</th>\n",
       "      <td>004d5e96c8a318aeb006af50f8cc949c</td>\n",
       "      <td>21532236</td>\n",
       "      <td>198f2ef020a14fce7ab418c522ad68d0</td>\n",
       "      <td>4</td>\n",
       "      <td>i had very low expectations of this book as th...</td>\n",
       "      <td>2014-12-02 11:14:33-08:00</td>\n",
       "      <td>Mon May 25 10:52:40 -0700 2015</td>\n",
       "      <td>Mon May 25 10:52:40 -0700 2015</td>\n",
       "      <td>Thu May 21 00:00:00 -0700 2015</td>\n",
       "      <td>0</td>\n",
       "      <td>0</td>\n",
       "    </tr>\n",
       "    <tr>\n",
       "      <th>...</th>\n",
       "      <td>...</td>\n",
       "      <td>...</td>\n",
       "      <td>...</td>\n",
       "      <td>...</td>\n",
       "      <td>...</td>\n",
       "      <td>...</td>\n",
       "      <td>...</td>\n",
       "      <td>...</td>\n",
       "      <td>...</td>\n",
       "      <td>...</td>\n",
       "      <td>...</td>\n",
       "    </tr>\n",
       "    <tr>\n",
       "      <th>18922</th>\n",
       "      <td>ffec6cbb0db016bc371fc30b902c3166</td>\n",
       "      <td>29801</td>\n",
       "      <td>48227bad637a2b8b0ded2f93588e5577</td>\n",
       "      <td>4</td>\n",
       "      <td>better closer warmer</td>\n",
       "      <td>2010-05-20 06:08:53-07:00</td>\n",
       "      <td>Sun Jun 27 13:47:45 -0700 2010</td>\n",
       "      <td>Sat Jun 19 00:00:00 -0700 2010</td>\n",
       "      <td>Thu Jun 17 00:00:00 -0700 2010</td>\n",
       "      <td>0</td>\n",
       "      <td>0</td>\n",
       "    </tr>\n",
       "    <tr>\n",
       "      <th>18923</th>\n",
       "      <td>ffec6cbb0db016bc371fc30b902c3166</td>\n",
       "      <td>1481979</td>\n",
       "      <td>ab9cc25074f25a6ad49102b4f87d0cbe</td>\n",
       "      <td>1</td>\n",
       "      <td>probably the worst batman story i have ever re...</td>\n",
       "      <td>2010-06-01 08:38:08-07:00</td>\n",
       "      <td>Thu Jul 08 14:02:20 -0700 2010</td>\n",
       "      <td>Thu Jul 08 00:00:00 -0700 2010</td>\n",
       "      <td>Thu Jul 08 00:00:00 -0700 2010</td>\n",
       "      <td>0</td>\n",
       "      <td>0</td>\n",
       "    </tr>\n",
       "    <tr>\n",
       "      <th>18924</th>\n",
       "      <td>ffec6cbb0db016bc371fc30b902c3166</td>\n",
       "      <td>893506</td>\n",
       "      <td>0e53620e964d1827731e3d58a4272fe7</td>\n",
       "      <td>4</td>\n",
       "      <td>mignola  wolverine  awesomeness</td>\n",
       "      <td>2010-07-26 15:10:20-07:00</td>\n",
       "      <td>Tue Aug 17 19:33:52 -0700 2010</td>\n",
       "      <td>Wed Aug 04 00:00:00 -0700 2010</td>\n",
       "      <td>Tue Aug 03 00:00:00 -0700 2010</td>\n",
       "      <td>1</td>\n",
       "      <td>0</td>\n",
       "    </tr>\n",
       "    <tr>\n",
       "      <th>18925</th>\n",
       "      <td>ffec6cbb0db016bc371fc30b902c3166</td>\n",
       "      <td>1001525</td>\n",
       "      <td>56c9841aee50cd15f4226e8ead8854d0</td>\n",
       "      <td>3</td>\n",
       "      <td>my interest in this book was piqued solely due...</td>\n",
       "      <td>2011-02-11 13:28:47-08:00</td>\n",
       "      <td>Thu Apr 14 09:25:58 -0700 2011</td>\n",
       "      <td>Wed Apr 13 00:00:00 -0700 2011</td>\n",
       "      <td>Tue Apr 12 00:00:00 -0700 2011</td>\n",
       "      <td>0</td>\n",
       "      <td>0</td>\n",
       "    </tr>\n",
       "    <tr>\n",
       "      <th>18926</th>\n",
       "      <td>ffec6cbb0db016bc371fc30b902c3166</td>\n",
       "      <td>10351563</td>\n",
       "      <td>918df87a988130ec87b407d0062527ec</td>\n",
       "      <td>5</td>\n",
       "      <td>read via netgalley  petrograd is an incredibly...</td>\n",
       "      <td>2011-06-10 14:18:13-07:00</td>\n",
       "      <td>Wed Jul 06 14:25:08 -0700 2011</td>\n",
       "      <td>Mon Jul 04 00:00:00 -0700 2011</td>\n",
       "      <td>Thu Jun 30 00:00:00 -0700 2011</td>\n",
       "      <td>1</td>\n",
       "      <td>0</td>\n",
       "    </tr>\n",
       "  </tbody>\n",
       "</table>\n",
       "<p>18927 rows × 11 columns</p>\n",
       "</div>"
      ],
      "text/plain": [
       "                                user_id   book_id  \\\n",
       "0      004d5e96c8a318aeb006af50f8cc949c  17571564   \n",
       "1      004d5e96c8a318aeb006af50f8cc949c  15789361   \n",
       "2      004d5e96c8a318aeb006af50f8cc949c  15704307   \n",
       "3      004d5e96c8a318aeb006af50f8cc949c  17131869   \n",
       "4      004d5e96c8a318aeb006af50f8cc949c  21532236   \n",
       "...                                 ...       ...   \n",
       "18922  ffec6cbb0db016bc371fc30b902c3166     29801   \n",
       "18923  ffec6cbb0db016bc371fc30b902c3166   1481979   \n",
       "18924  ffec6cbb0db016bc371fc30b902c3166    893506   \n",
       "18925  ffec6cbb0db016bc371fc30b902c3166   1001525   \n",
       "18926  ffec6cbb0db016bc371fc30b902c3166  10351563   \n",
       "\n",
       "                              review_id  rating  \\\n",
       "0      c0892c59cab3b0c2518dbcc61888186b       1   \n",
       "1      713d2060267145692291a9acaab4ab23       3   \n",
       "2      cec66320ca1704340bea3bd034fd642f       5   \n",
       "3      6466c273bb0e1962687c4f53b29b88ca       5   \n",
       "4      198f2ef020a14fce7ab418c522ad68d0       4   \n",
       "...                                 ...     ...   \n",
       "18922  48227bad637a2b8b0ded2f93588e5577       4   \n",
       "18923  ab9cc25074f25a6ad49102b4f87d0cbe       1   \n",
       "18924  0e53620e964d1827731e3d58a4272fe7       4   \n",
       "18925  56c9841aee50cd15f4226e8ead8854d0       3   \n",
       "18926  918df87a988130ec87b407d0062527ec       5   \n",
       "\n",
       "                                             review_text  \\\n",
       "0      i am unsure if this book is supposed to be fun...   \n",
       "1      i like the manga version of the story much mor...   \n",
       "2      awesome  beautiful graphics and a great story ...   \n",
       "3      how can i use ordinary words to emphasize how ...   \n",
       "4      i had very low expectations of this book as th...   \n",
       "...                                                  ...   \n",
       "18922                               better closer warmer   \n",
       "18923  probably the worst batman story i have ever re...   \n",
       "18924                    mignola  wolverine  awesomeness   \n",
       "18925  my interest in this book was piqued solely due...   \n",
       "18926  read via netgalley  petrograd is an incredibly...   \n",
       "\n",
       "                      date_added                    date_updated  \\\n",
       "0      2014-01-04 11:28:18-08:00  Wed Jun 04 11:35:45 -0700 2014   \n",
       "1      2014-01-04 11:34:49-08:00  Tue Nov 11 20:50:25 -0800 2014   \n",
       "2      2014-05-11 17:02:58-07:00  Thu Jan 14 17:25:20 -0800 2016   \n",
       "3      2014-11-11 20:47:49-08:00  Mon Feb 08 17:24:52 -0800 2016   \n",
       "4      2014-12-02 11:14:33-08:00  Mon May 25 10:52:40 -0700 2015   \n",
       "...                          ...                             ...   \n",
       "18922  2010-05-20 06:08:53-07:00  Sun Jun 27 13:47:45 -0700 2010   \n",
       "18923  2010-06-01 08:38:08-07:00  Thu Jul 08 14:02:20 -0700 2010   \n",
       "18924  2010-07-26 15:10:20-07:00  Tue Aug 17 19:33:52 -0700 2010   \n",
       "18925  2011-02-11 13:28:47-08:00  Thu Apr 14 09:25:58 -0700 2011   \n",
       "18926  2011-06-10 14:18:13-07:00  Wed Jul 06 14:25:08 -0700 2011   \n",
       "\n",
       "                              read_at                      started_at  \\\n",
       "0      Wed Jun 04 11:35:45 -0700 2014  Wed Jun 04 00:00:00 -0700 2014   \n",
       "1      Tue Nov 11 00:00:00 -0800 2014  Fri Nov 07 00:00:00 -0800 2014   \n",
       "2      Wed Aug 13 16:35:34 -0700 2014  Wed Aug 13 00:00:00 -0700 2014   \n",
       "3      Sun Dec 07 00:00:00 -0800 2014  Sun Dec 07 00:00:00 -0800 2014   \n",
       "4      Mon May 25 10:52:40 -0700 2015  Thu May 21 00:00:00 -0700 2015   \n",
       "...                               ...                             ...   \n",
       "18922  Sat Jun 19 00:00:00 -0700 2010  Thu Jun 17 00:00:00 -0700 2010   \n",
       "18923  Thu Jul 08 00:00:00 -0700 2010  Thu Jul 08 00:00:00 -0700 2010   \n",
       "18924  Wed Aug 04 00:00:00 -0700 2010  Tue Aug 03 00:00:00 -0700 2010   \n",
       "18925  Wed Apr 13 00:00:00 -0700 2011  Tue Apr 12 00:00:00 -0700 2011   \n",
       "18926  Mon Jul 04 00:00:00 -0700 2011  Thu Jun 30 00:00:00 -0700 2011   \n",
       "\n",
       "       n_votes  n_comments  \n",
       "0            1           0  \n",
       "1            0           0  \n",
       "2            2           0  \n",
       "3            1           0  \n",
       "4            0           0  \n",
       "...        ...         ...  \n",
       "18922        0           0  \n",
       "18923        0           0  \n",
       "18924        1           0  \n",
       "18925        0           0  \n",
       "18926        1           0  \n",
       "\n",
       "[18927 rows x 11 columns]"
      ]
     },
     "execution_count": 107,
     "metadata": {},
     "output_type": "execute_result"
    }
   ],
   "source": [
    "train"
   ]
  },
  {
   "cell_type": "code",
   "execution_count": 2,
   "id": "b9a48edc",
   "metadata": {
    "scrolled": false
   },
   "outputs": [
    {
     "name": "stdout",
     "output_type": "stream",
     "text": [
      "Collecting fastfm\n",
      "  Using cached fastFM-0.2.10.tar.gz (1.6 MB)\n",
      "Requirement already satisfied: numpy in d:\\anaconda3\\lib\\site-packages (from fastfm) (1.20.1)\n",
      "Requirement already satisfied: scikit-learn in d:\\anaconda3\\lib\\site-packages (from fastfm) (0.24.1)\n",
      "Requirement already satisfied: scipy in d:\\anaconda3\\lib\\site-packages (from fastfm) (1.6.2)\n",
      "Requirement already satisfied: cython in d:\\anaconda3\\lib\\site-packages (from fastfm) (0.29.23)\n",
      "Requirement already satisfied: threadpoolctl>=2.0.0 in d:\\anaconda3\\lib\\site-packages (from scikit-learn->fastfm) (2.1.0)\n",
      "Requirement already satisfied: joblib>=0.11 in d:\\anaconda3\\lib\\site-packages (from scikit-learn->fastfm) (1.0.1)\n",
      "Building wheels for collected packages: fastfm\n",
      "  Building wheel for fastfm (setup.py): started\n",
      "  Building wheel for fastfm (setup.py): finished with status 'error'\n",
      "  Running setup.py clean for fastfm\n",
      "Failed to build fastfm\n",
      "Installing collected packages: fastfm\n",
      "    Running setup.py install for fastfm: started\n",
      "    Running setup.py install for fastfm: finished with status 'error'\n",
      "Note: you may need to restart the kernel to use updated packages.\n"
     ]
    },
    {
     "name": "stderr",
     "output_type": "stream",
     "text": [
      "  ERROR: Command errored out with exit status 1:\n",
      "   command: 'D:\\anaconda3\\python.exe' -u -c 'import sys, setuptools, tokenize; sys.argv[0] = '\"'\"'C:\\\\Users\\\\laimy\\\\AppData\\\\Local\\\\Temp\\\\pip-install-grtop5mk\\\\fastfm_87fb30de866948c4b24add440b2f48cd\\\\setup.py'\"'\"'; __file__='\"'\"'C:\\\\Users\\\\laimy\\\\AppData\\\\Local\\\\Temp\\\\pip-install-grtop5mk\\\\fastfm_87fb30de866948c4b24add440b2f48cd\\\\setup.py'\"'\"';f=getattr(tokenize, '\"'\"'open'\"'\"', open)(__file__);code=f.read().replace('\"'\"'\\r\\n'\"'\"', '\"'\"'\\n'\"'\"');f.close();exec(compile(code, __file__, '\"'\"'exec'\"'\"'))' bdist_wheel -d 'C:\\Users\\laimy\\AppData\\Local\\Temp\\pip-wheel-vxfddubn'\n",
      "       cwd: C:\\Users\\laimy\\AppData\\Local\\Temp\\pip-install-grtop5mk\\fastfm_87fb30de866948c4b24add440b2f48cd\\\n",
      "  Complete output (133 lines):\n",
      "  running bdist_wheel\n",
      "  running build\n",
      "  running build_py\n",
      "  creating build\n",
      "  creating build\\lib.win-amd64-3.8\n",
      "  creating build\\lib.win-amd64-3.8\\fastFM\n",
      "  copying fastFM\\als.py -> build\\lib.win-amd64-3.8\\fastFM\n",
      "  copying fastFM\\base.py -> build\\lib.win-amd64-3.8\\fastFM\n",
      "  copying fastFM\\bpr.py -> build\\lib.win-amd64-3.8\\fastFM\n",
      "  copying fastFM\\datasets.py -> build\\lib.win-amd64-3.8\\fastFM\n",
      "  copying fastFM\\mcmc.py -> build\\lib.win-amd64-3.8\\fastFM\n",
      "  copying fastFM\\sgd.py -> build\\lib.win-amd64-3.8\\fastFM\n",
      "  copying fastFM\\utils.py -> build\\lib.win-amd64-3.8\\fastFM\n",
      "  copying fastFM\\validation.py -> build\\lib.win-amd64-3.8\\fastFM\n",
      "  copying fastFM\\__init__.py -> build\\lib.win-amd64-3.8\\fastFM\n",
      "  running build_ext\n",
      "  skipping 'fastFM\\ffm.c' Cython extension (up-to-date)\n",
      "  building 'ffm' extension\n",
      "  creating build\\temp.win-amd64-3.8\n",
      "  creating build\\temp.win-amd64-3.8\\Release\n",
      "  creating build\\temp.win-amd64-3.8\\Release\\fastFM\n",
      "  D:\\Microsoft Visual Studio\\2019\\BuildTools\\VC\\Tools\\MSVC\\14.29.30133\\bin\\HostX86\\x64\\cl.exe /c /nologo /Ox /W3 /GL /DNDEBUG /MD -IfastFM/ -IfastFM-core/include/ -IfastFM-core/externals/CXSparse/Include/ -ID:\\anaconda3\\lib\\site-packages\\numpy\\core\\include -ID:\\anaconda3\\include -ID:\\anaconda3\\include \"-ID:\\Microsoft Visual Studio\\2019\\BuildTools\\VC\\Tools\\MSVC\\14.29.30133\\include\" \"-IC:\\Program Files (x86)\\Windows Kits\\10\\include\\10.0.19041.0\\ucrt\" \"-IC:\\Program Files (x86)\\Windows Kits\\10\\include\\10.0.19041.0\\shared\" \"-IC:\\Program Files (x86)\\Windows Kits\\10\\include\\10.0.19041.0\\um\" \"-IC:\\Program Files (x86)\\Windows Kits\\10\\include\\10.0.19041.0\\winrt\" \"-IC:\\Program Files (x86)\\Windows Kits\\10\\include\\10.0.19041.0\\cppwinrt\" /TcfastFM\\ffm.c /Fobuild\\temp.win-amd64-3.8\\Release\\fastFM\\ffm.obj\n",
      "  ffm.c\n",
      "  C:\\Users\\laimy\\AppData\\Local\\Temp\\pip-install-grtop5mk\\fastfm_87fb30de866948c4b24add440b2f48cd\\fastFM\\../fastFM-core/externals/CXSparse/Include/cs.h(324): error C2143: syntax error: missing ';' before '*'\n",
      "  C:\\Users\\laimy\\AppData\\Local\\Temp\\pip-install-grtop5mk\\fastfm_87fb30de866948c4b24add440b2f48cd\\fastFM\\../fastFM-core/externals/CXSparse/Include/cs.h(324): error C2059: syntax error: '*'\n",
      "  C:\\Users\\laimy\\AppData\\Local\\Temp\\pip-install-grtop5mk\\fastfm_87fb30de866948c4b24add440b2f48cd\\fastFM\\../fastFM-core/externals/CXSparse/Include/cs.h(326): error C2059: syntax error: '}'\n",
      "  C:\\Users\\laimy\\AppData\\Local\\Temp\\pip-install-grtop5mk\\fastfm_87fb30de866948c4b24add440b2f48cd\\fastFM\\../fastFM-core/externals/CXSparse/Include/cs.h(328): error C2143: syntax error: missing '{' before '*'\n",
      "  C:\\Users\\laimy\\AppData\\Local\\Temp\\pip-install-grtop5mk\\fastfm_87fb30de866948c4b24add440b2f48cd\\fastFM\\../fastFM-core/externals/CXSparse/Include/cs.h(328): error C2143: syntax error: missing ')' before '*'\n",
      "  C:\\Users\\laimy\\AppData\\Local\\Temp\\pip-install-grtop5mk\\fastfm_87fb30de866948c4b24add440b2f48cd\\fastFM\\../fastFM-core/externals/CXSparse/Include/cs.h(328): warning C4228: nonstandard extension used: qualifiers after comma in declarator list are ignored\n",
      "  C:\\Users\\laimy\\AppData\\Local\\Temp\\pip-install-grtop5mk\\fastfm_87fb30de866948c4b24add440b2f48cd\\fastFM\\../fastFM-core/externals/CXSparse/Include/cs.h(328): error C2143: syntax error: missing ';' before '*'\n",
      "  C:\\Users\\laimy\\AppData\\Local\\Temp\\pip-install-grtop5mk\\fastfm_87fb30de866948c4b24add440b2f48cd\\fastFM\\../fastFM-core/externals/CXSparse/Include/cs.h(328): error C2059: syntax error: 'type'\n",
      "  C:\\Users\\laimy\\AppData\\Local\\Temp\\pip-install-grtop5mk\\fastfm_87fb30de866948c4b24add440b2f48cd\\fastFM\\../fastFM-core/externals/CXSparse/Include/cs.h(329): error C2059: syntax error: ')'\n",
      "  C:\\Users\\laimy\\AppData\\Local\\Temp\\pip-install-grtop5mk\\fastfm_87fb30de866948c4b24add440b2f48cd\\fastFM\\../fastFM-core/externals/CXSparse/Include/cs.h(330): error C2143: syntax error: missing ')' before '*'\n",
      "  C:\\Users\\laimy\\AppData\\Local\\Temp\\pip-install-grtop5mk\\fastfm_87fb30de866948c4b24add440b2f48cd\\fastFM\\../fastFM-core/externals/CXSparse/Include/cs.h(330): error C2143: syntax error: missing '{' before '*'\n",
      "  C:\\Users\\laimy\\AppData\\Local\\Temp\\pip-install-grtop5mk\\fastfm_87fb30de866948c4b24add440b2f48cd\\fastFM\\../fastFM-core/externals/CXSparse/Include/cs.h(330): error C2059: syntax error: 'type'\n",
      "  C:\\Users\\laimy\\AppData\\Local\\Temp\\pip-install-grtop5mk\\fastfm_87fb30de866948c4b24add440b2f48cd\\fastFM\\../fastFM-core/externals/CXSparse/Include/cs.h(330): error C2059: syntax error: ')'\n",
      "  C:\\Users\\laimy\\AppData\\Local\\Temp\\pip-install-grtop5mk\\fastfm_87fb30de866948c4b24add440b2f48cd\\fastFM\\../fastFM-core/externals/CXSparse/Include/cs.h(331): error C2143: syntax error: missing ')' before '*'\n",
      "  C:\\Users\\laimy\\AppData\\Local\\Temp\\pip-install-grtop5mk\\fastfm_87fb30de866948c4b24add440b2f48cd\\fastFM\\../fastFM-core/externals/CXSparse/Include/cs.h(331): error C2143: syntax error: missing '{' before '*'\n",
      "  C:\\Users\\laimy\\AppData\\Local\\Temp\\pip-install-grtop5mk\\fastfm_87fb30de866948c4b24add440b2f48cd\\fastFM\\../fastFM-core/externals/CXSparse/Include/cs.h(331): error C2059: syntax error: ')'\n",
      "  C:\\Users\\laimy\\AppData\\Local\\Temp\\pip-install-grtop5mk\\fastfm_87fb30de866948c4b24add440b2f48cd\\fastFM\\../fastFM-core/externals/CXSparse/Include/cs.h(332): error C2143: syntax error: missing ')' before '*'\n",
      "  C:\\Users\\laimy\\AppData\\Local\\Temp\\pip-install-grtop5mk\\fastfm_87fb30de866948c4b24add440b2f48cd\\fastFM\\../fastFM-core/externals/CXSparse/Include/cs.h(332): error C2143: syntax error: missing '{' before '*'\n",
      "  C:\\Users\\laimy\\AppData\\Local\\Temp\\pip-install-grtop5mk\\fastfm_87fb30de866948c4b24add440b2f48cd\\fastFM\\../fastFM-core/externals/CXSparse/Include/cs.h(332): error C2059: syntax error: 'type'\n",
      "  C:\\Users\\laimy\\AppData\\Local\\Temp\\pip-install-grtop5mk\\fastfm_87fb30de866948c4b24add440b2f48cd\\fastFM\\../fastFM-core/externals/CXSparse/Include/cs.h(332): error C2059: syntax error: ')'\n",
      "  C:\\Users\\laimy\\AppData\\Local\\Temp\\pip-install-grtop5mk\\fastfm_87fb30de866948c4b24add440b2f48cd\\fastFM\\../fastFM-core/externals/CXSparse/Include/cs.h(333): error C2143: syntax error: missing ')' before '*'\n",
      "  C:\\Users\\laimy\\AppData\\Local\\Temp\\pip-install-grtop5mk\\fastfm_87fb30de866948c4b24add440b2f48cd\\fastFM\\../fastFM-core/externals/CXSparse/Include/cs.h(333): error C2143: syntax error: missing '{' before '*'\n",
      "  C:\\Users\\laimy\\AppData\\Local\\Temp\\pip-install-grtop5mk\\fastfm_87fb30de866948c4b24add440b2f48cd\\fastFM\\../fastFM-core/externals/CXSparse/Include/cs.h(333): error C2059: syntax error: 'type'\n",
      "  C:\\Users\\laimy\\AppData\\Local\\Temp\\pip-install-grtop5mk\\fastfm_87fb30de866948c4b24add440b2f48cd\\fastFM\\../fastFM-core/externals/CXSparse/Include/cs.h(333): error C2059: syntax error: ')'\n",
      "  C:\\Users\\laimy\\AppData\\Local\\Temp\\pip-install-grtop5mk\\fastfm_87fb30de866948c4b24add440b2f48cd\\fastFM\\../fastFM-core/externals/CXSparse/Include/cs.h(334): error C2143: syntax error: missing ')' before '*'\n",
      "  C:\\Users\\laimy\\AppData\\Local\\Temp\\pip-install-grtop5mk\\fastfm_87fb30de866948c4b24add440b2f48cd\\fastFM\\../fastFM-core/externals/CXSparse/Include/cs.h(334): error C2143: syntax error: missing '{' before '*'\n",
      "  C:\\Users\\laimy\\AppData\\Local\\Temp\\pip-install-grtop5mk\\fastfm_87fb30de866948c4b24add440b2f48cd\\fastFM\\../fastFM-core/externals/CXSparse/Include/cs.h(334): error C2059: syntax error: 'type'\n",
      "  C:\\Users\\laimy\\AppData\\Local\\Temp\\pip-install-grtop5mk\\fastfm_87fb30de866948c4b24add440b2f48cd\\fastFM\\../fastFM-core/externals/CXSparse/Include/cs.h(334): error C2059: syntax error: ')'\n",
      "  C:\\Users\\laimy\\AppData\\Local\\Temp\\pip-install-grtop5mk\\fastfm_87fb30de866948c4b24add440b2f48cd\\fastFM\\../fastFM-core/externals/CXSparse/Include/cs.h(335): error C2143: syntax error: missing '{' before '*'\n",
      "  C:\\Users\\laimy\\AppData\\Local\\Temp\\pip-install-grtop5mk\\fastfm_87fb30de866948c4b24add440b2f48cd\\fastFM\\../fastFM-core/externals/CXSparse/Include/cs.h(335): error C2143: syntax error: missing ')' before '*'\n",
      "  C:\\Users\\laimy\\AppData\\Local\\Temp\\pip-install-grtop5mk\\fastfm_87fb30de866948c4b24add440b2f48cd\\fastFM\\../fastFM-core/externals/CXSparse/Include/cs.h(335): warning C4228: nonstandard extension used: qualifiers after comma in declarator list are ignored\n",
      "  C:\\Users\\laimy\\AppData\\Local\\Temp\\pip-install-grtop5mk\\fastfm_87fb30de866948c4b24add440b2f48cd\\fastFM\\../fastFM-core/externals/CXSparse/Include/cs.h(335): error C2143: syntax error: missing ';' before '*'\n",
      "  C:\\Users\\laimy\\AppData\\Local\\Temp\\pip-install-grtop5mk\\fastfm_87fb30de866948c4b24add440b2f48cd\\fastFM\\../fastFM-core/externals/CXSparse/Include/cs.h(335): error C2059: syntax error: ')'\n",
      "  C:\\Users\\laimy\\AppData\\Local\\Temp\\pip-install-grtop5mk\\fastfm_87fb30de866948c4b24add440b2f48cd\\fastFM\\../fastFM-core/externals/CXSparse/Include/cs.h(336): error C2143: syntax error: missing ')' before '*'\n",
      "  C:\\Users\\laimy\\AppData\\Local\\Temp\\pip-install-grtop5mk\\fastfm_87fb30de866948c4b24add440b2f48cd\\fastFM\\../fastFM-core/externals/CXSparse/Include/cs.h(336): error C2143: syntax error: missing '{' before '*'\n",
      "  C:\\Users\\laimy\\AppData\\Local\\Temp\\pip-install-grtop5mk\\fastfm_87fb30de866948c4b24add440b2f48cd\\fastFM\\../fastFM-core/externals/CXSparse/Include/cs.h(336): error C2059: syntax error: 'type'\n",
      "  C:\\Users\\laimy\\AppData\\Local\\Temp\\pip-install-grtop5mk\\fastfm_87fb30de866948c4b24add440b2f48cd\\fastFM\\../fastFM-core/externals/CXSparse/Include/cs.h(336): error C2059: syntax error: ')'\n",
      "  C:\\Users\\laimy\\AppData\\Local\\Temp\\pip-install-grtop5mk\\fastfm_87fb30de866948c4b24add440b2f48cd\\fastFM\\../fastFM-core/externals/CXSparse/Include/cs.h(337): error C2143: syntax error: missing '{' before '*'\n",
      "  C:\\Users\\laimy\\AppData\\Local\\Temp\\pip-install-grtop5mk\\fastfm_87fb30de866948c4b24add440b2f48cd\\fastFM\\../fastFM-core/externals/CXSparse/Include/cs.h(337): error C2143: syntax error: missing ')' before '*'\n",
      "  C:\\Users\\laimy\\AppData\\Local\\Temp\\pip-install-grtop5mk\\fastfm_87fb30de866948c4b24add440b2f48cd\\fastFM\\../fastFM-core/externals/CXSparse/Include/cs.h(337): error C2059: syntax error: 'type'\n",
      "  C:\\Users\\laimy\\AppData\\Local\\Temp\\pip-install-grtop5mk\\fastfm_87fb30de866948c4b24add440b2f48cd\\fastFM\\../fastFM-core/externals/CXSparse/Include/cs.h(337): error C2059: syntax error: ')'\n",
      "  C:\\Users\\laimy\\AppData\\Local\\Temp\\pip-install-grtop5mk\\fastfm_87fb30de866948c4b24add440b2f48cd\\fastFM\\../fastFM-core/externals/CXSparse/Include/cs.h(338): error C2143: syntax error: missing '{' before '*'\n",
      "  C:\\Users\\laimy\\AppData\\Local\\Temp\\pip-install-grtop5mk\\fastfm_87fb30de866948c4b24add440b2f48cd\\fastFM\\../fastFM-core/externals/CXSparse/Include/cs.h(338): error C2143: syntax error: missing ')' before '*'\n",
      "  C:\\Users\\laimy\\AppData\\Local\\Temp\\pip-install-grtop5mk\\fastfm_87fb30de866948c4b24add440b2f48cd\\fastFM\\../fastFM-core/externals/CXSparse/Include/cs.h(338): error C2059: syntax error: ')'\n",
      "  C:\\Users\\laimy\\AppData\\Local\\Temp\\pip-install-grtop5mk\\fastfm_87fb30de866948c4b24add440b2f48cd\\fastFM\\../fastFM-core/externals/CXSparse/Include/cs.h(339): error C2143: syntax error: missing ')' before '*'\n",
      "  C:\\Users\\laimy\\AppData\\Local\\Temp\\pip-install-grtop5mk\\fastfm_87fb30de866948c4b24add440b2f48cd\\fastFM\\../fastFM-core/externals/CXSparse/Include/cs.h(339): error C2143: syntax error: missing '{' before '*'\n",
      "  C:\\Users\\laimy\\AppData\\Local\\Temp\\pip-install-grtop5mk\\fastfm_87fb30de866948c4b24add440b2f48cd\\fastFM\\../fastFM-core/externals/CXSparse/Include/cs.h(339): error C2059: syntax error: ')'\n",
      "  C:\\Users\\laimy\\AppData\\Local\\Temp\\pip-install-grtop5mk\\fastfm_87fb30de866948c4b24add440b2f48cd\\fastFM\\../fastFM-core/externals/CXSparse/Include/cs.h(340): error C2143: syntax error: missing ')' before '*'\n",
      "  C:\\Users\\laimy\\AppData\\Local\\Temp\\pip-install-grtop5mk\\fastfm_87fb30de866948c4b24add440b2f48cd\\fastFM\\../fastFM-core/externals/CXSparse/Include/cs.h(340): error C2143: syntax error: missing '{' before '*'\n",
      "  C:\\Users\\laimy\\AppData\\Local\\Temp\\pip-install-grtop5mk\\fastfm_87fb30de866948c4b24add440b2f48cd\\fastFM\\../fastFM-core/externals/CXSparse/Include/cs.h(340): error C2059: syntax error: 'type'\n",
      "  C:\\Users\\laimy\\AppData\\Local\\Temp\\pip-install-grtop5mk\\fastfm_87fb30de866948c4b24add440b2f48cd\\fastFM\\../fastFM-core/externals/CXSparse/Include/cs.h(340): error C2059: syntax error: ')'\n",
      "  C:\\Users\\laimy\\AppData\\Local\\Temp\\pip-install-grtop5mk\\fastfm_87fb30de866948c4b24add440b2f48cd\\fastFM\\../fastFM-core/externals/CXSparse/Include/cs.h(341): error C2143: syntax error: missing '{' before '*'\n",
      "  C:\\Users\\laimy\\AppData\\Local\\Temp\\pip-install-grtop5mk\\fastfm_87fb30de866948c4b24add440b2f48cd\\fastFM\\../fastFM-core/externals/CXSparse/Include/cs.h(347): error C2143: syntax error: missing '{' before '*'\n",
      "  C:\\Users\\laimy\\AppData\\Local\\Temp\\pip-install-grtop5mk\\fastfm_87fb30de866948c4b24add440b2f48cd\\fastFM\\../fastFM-core/externals/CXSparse/Include/cs.h(348): error C2143: syntax error: missing '{' before '*'\n",
      "  C:\\Users\\laimy\\AppData\\Local\\Temp\\pip-install-grtop5mk\\fastfm_87fb30de866948c4b24add440b2f48cd\\fastFM\\../fastFM-core/externals/CXSparse/Include/cs.h(348): error C2143: syntax error: missing ')' before '*'\n",
      "  C:\\Users\\laimy\\AppData\\Local\\Temp\\pip-install-grtop5mk\\fastfm_87fb30de866948c4b24add440b2f48cd\\fastFM\\../fastFM-core/externals/CXSparse/Include/cs.h(348): error C2059: syntax error: ')'\n",
      "  C:\\Users\\laimy\\AppData\\Local\\Temp\\pip-install-grtop5mk\\fastfm_87fb30de866948c4b24add440b2f48cd\\fastFM\\../fastFM-core/externals/CXSparse/Include/cs.h(349): error C2143: syntax error: missing ')' before '*'\n",
      "  C:\\Users\\laimy\\AppData\\Local\\Temp\\pip-install-grtop5mk\\fastfm_87fb30de866948c4b24add440b2f48cd\\fastFM\\../fastFM-core/externals/CXSparse/Include/cs.h(349): error C2143: syntax error: missing '{' before '*'\n",
      "  C:\\Users\\laimy\\AppData\\Local\\Temp\\pip-install-grtop5mk\\fastfm_87fb30de866948c4b24add440b2f48cd\\fastFM\\../fastFM-core/externals/CXSparse/Include/cs.h(349): error C2059: syntax error: 'type'\n",
      "  C:\\Users\\laimy\\AppData\\Local\\Temp\\pip-install-grtop5mk\\fastfm_87fb30de866948c4b24add440b2f48cd\\fastFM\\../fastFM-core/externals/CXSparse/Include/cs.h(349): error C2059: syntax error: ')'\n",
      "  C:\\Users\\laimy\\AppData\\Local\\Temp\\pip-install-grtop5mk\\fastfm_87fb30de866948c4b24add440b2f48cd\\fastFM\\../fastFM-core/externals/CXSparse/Include/cs.h(368): error C2061: syntax error: identifier 'cs_ci'\n",
      "  C:\\Users\\laimy\\AppData\\Local\\Temp\\pip-install-grtop5mk\\fastfm_87fb30de866948c4b24add440b2f48cd\\fastFM\\../fastFM-core/externals/CXSparse/Include/cs.h(369): error C2143: syntax error: missing '{' before '*'\n",
      "  C:\\Users\\laimy\\AppData\\Local\\Temp\\pip-install-grtop5mk\\fastfm_87fb30de866948c4b24add440b2f48cd\\fastFM\\../fastFM-core/externals/CXSparse/Include/cs.h(371): error C2371: 'B': redefinition; different basic types\n",
      "  C:\\Users\\laimy\\AppData\\Local\\Temp\\pip-install-grtop5mk\\fastfm_87fb30de866948c4b24add440b2f48cd\\fastFM\\../fastFM-core/externals/CXSparse/Include/cs.h(335): note: see declaration of 'B'\n",
      "  C:\\Users\\laimy\\AppData\\Local\\Temp\\pip-install-grtop5mk\\fastfm_87fb30de866948c4b24add440b2f48cd\\fastFM\\../fastFM-core/externals/CXSparse/Include/cs.h(372): error C2059: syntax error: '}'\n",
      "  C:\\Users\\laimy\\AppData\\Local\\Temp\\pip-install-grtop5mk\\fastfm_87fb30de866948c4b24add440b2f48cd\\fastFM\\../fastFM-core/externals/CXSparse/Include/cs.h(385): error C2143: syntax error: missing ')' before '*'\n",
      "  C:\\Users\\laimy\\AppData\\Local\\Temp\\pip-install-grtop5mk\\fastfm_87fb30de866948c4b24add440b2f48cd\\fastFM\\../fastFM-core/externals/CXSparse/Include/cs.h(385): error C2143: syntax error: missing '{' before '*'\n",
      "  C:\\Users\\laimy\\AppData\\Local\\Temp\\pip-install-grtop5mk\\fastfm_87fb30de866948c4b24add440b2f48cd\\fastFM\\../fastFM-core/externals/CXSparse/Include/cs.h(385): error C2059: syntax error: ')'\n",
      "  C:\\Users\\laimy\\AppData\\Local\\Temp\\pip-install-grtop5mk\\fastfm_87fb30de866948c4b24add440b2f48cd\\fastFM\\../fastFM-core/externals/CXSparse/Include/cs.h(386): error C2143: syntax error: missing '{' before '*'\n",
      "  C:\\Users\\laimy\\AppData\\Local\\Temp\\pip-install-grtop5mk\\fastfm_87fb30de866948c4b24add440b2f48cd\\fastFM\\../fastFM-core/externals/CXSparse/Include/cs.h(386): error C2143: syntax error: missing ')' before '*'\n",
      "  C:\\Users\\laimy\\AppData\\Local\\Temp\\pip-install-grtop5mk\\fastfm_87fb30de866948c4b24add440b2f48cd\\fastFM\\../fastFM-core/externals/CXSparse/Include/cs.h(386): error C2371: 'cs_cis': redefinition; different basic types\n",
      "  C:\\Users\\laimy\\AppData\\Local\\Temp\\pip-install-grtop5mk\\fastfm_87fb30de866948c4b24add440b2f48cd\\fastFM\\../fastFM-core/externals/CXSparse/Include/cs.h(364): note: see declaration of 'cs_cis'\n",
      "  C:\\Users\\laimy\\AppData\\Local\\Temp\\pip-install-grtop5mk\\fastfm_87fb30de866948c4b24add440b2f48cd\\fastFM\\../fastFM-core/externals/CXSparse/Include/cs.h(386): warning C4228: nonstandard extension used: qualifiers after comma in declarator list are ignored\n",
      "  C:\\Users\\laimy\\AppData\\Local\\Temp\\pip-install-grtop5mk\\fastfm_87fb30de866948c4b24add440b2f48cd\\fastFM\\../fastFM-core/externals/CXSparse/Include/cs.h(386): error C2143: syntax error: missing ';' before '*'\n",
      "  C:\\Users\\laimy\\AppData\\Local\\Temp\\pip-install-grtop5mk\\fastfm_87fb30de866948c4b24add440b2f48cd\\fastFM\\../fastFM-core/externals/CXSparse/Include/cs.h(386): error C2059: syntax error: ')'\n",
      "  C:\\Users\\laimy\\AppData\\Local\\Temp\\pip-install-grtop5mk\\fastfm_87fb30de866948c4b24add440b2f48cd\\fastFM\\../fastFM-core/externals/CXSparse/Include/cs.h(387): error C2143: syntax error: missing ')' before '*'\n",
      "  C:\\Users\\laimy\\AppData\\Local\\Temp\\pip-install-grtop5mk\\fastfm_87fb30de866948c4b24add440b2f48cd\\fastFM\\../fastFM-core/externals/CXSparse/Include/cs.h(387): error C2143: syntax error: missing '{' before '*'\n",
      "  C:\\Users\\laimy\\AppData\\Local\\Temp\\pip-install-grtop5mk\\fastfm_87fb30de866948c4b24add440b2f48cd\\fastFM\\../fastFM-core/externals/CXSparse/Include/cs.h(387): error C2059: syntax error: 'type'\n",
      "  C:\\Users\\laimy\\AppData\\Local\\Temp\\pip-install-grtop5mk\\fastfm_87fb30de866948c4b24add440b2f48cd\\fastFM\\../fastFM-core/externals/CXSparse/Include/cs.h(387): error C2059: syntax error: ')'\n",
      "  C:\\Users\\laimy\\AppData\\Local\\Temp\\pip-install-grtop5mk\\fastfm_87fb30de866948c4b24add440b2f48cd\\fastFM\\../fastFM-core/externals/CXSparse/Include/cs.h(388): error C2143: syntax error: missing ')' before '*'\n",
      "  C:\\Users\\laimy\\AppData\\Local\\Temp\\pip-install-grtop5mk\\fastfm_87fb30de866948c4b24add440b2f48cd\\fastFM\\../fastFM-core/externals/CXSparse/Include/cs.h(388): error C2143: syntax error: missing '{' before '*'\n",
      "  C:\\Users\\laimy\\AppData\\Local\\Temp\\pip-install-grtop5mk\\fastfm_87fb30de866948c4b24add440b2f48cd\\fastFM\\../fastFM-core/externals/CXSparse/Include/cs.h(388): error C2059: syntax error: 'type'\n",
      "  C:\\Users\\laimy\\AppData\\Local\\Temp\\pip-install-grtop5mk\\fastfm_87fb30de866948c4b24add440b2f48cd\\fastFM\\../fastFM-core/externals/CXSparse/Include/cs.h(388): error C2059: syntax error: ')'\n",
      "  C:\\Users\\laimy\\AppData\\Local\\Temp\\pip-install-grtop5mk\\fastfm_87fb30de866948c4b24add440b2f48cd\\fastFM\\../fastFM-core/externals/CXSparse/Include/cs.h(389): error C2143: syntax error: missing ')' before '*'\n",
      "  C:\\Users\\laimy\\AppData\\Local\\Temp\\pip-install-grtop5mk\\fastfm_87fb30de866948c4b24add440b2f48cd\\fastFM\\../fastFM-core/externals/CXSparse/Include/cs.h(389): error C2143: syntax error: missing '{' before '*'\n",
      "  C:\\Users\\laimy\\AppData\\Local\\Temp\\pip-install-grtop5mk\\fastfm_87fb30de866948c4b24add440b2f48cd\\fastFM\\../fastFM-core/externals/CXSparse/Include/cs.h(389): error C2059: syntax error: ')'\n",
      "  C:\\Users\\laimy\\AppData\\Local\\Temp\\pip-install-grtop5mk\\fastfm_87fb30de866948c4b24add440b2f48cd\\fastFM\\../fastFM-core/externals/CXSparse/Include/cs.h(390): error C2143: syntax error: missing ')' before '*'\n",
      "  C:\\Users\\laimy\\AppData\\Local\\Temp\\pip-install-grtop5mk\\fastfm_87fb30de866948c4b24add440b2f48cd\\fastFM\\../fastFM-core/externals/CXSparse/Include/cs.h(390): error C2143: syntax error: missing '{' before '*'\n",
      "  C:\\Users\\laimy\\AppData\\Local\\Temp\\pip-install-grtop5mk\\fastfm_87fb30de866948c4b24add440b2f48cd\\fastFM\\../fastFM-core/externals/CXSparse/Include/cs.h(390): error C2059: syntax error: 'type'\n",
      "  C:\\Users\\laimy\\AppData\\Local\\Temp\\pip-install-grtop5mk\\fastfm_87fb30de866948c4b24add440b2f48cd\\fastFM\\../fastFM-core/externals/CXSparse/Include/cs.h(390): error C2059: syntax error: ')'\n",
      "  C:\\Users\\laimy\\AppData\\Local\\Temp\\pip-install-grtop5mk\\fastfm_87fb30de866948c4b24add440b2f48cd\\fastFM\\../fastFM-core/externals/CXSparse/Include/cs.h(391): error C2143: syntax error: missing ')' before '*'\n",
      "  C:\\Users\\laimy\\AppData\\Local\\Temp\\pip-install-grtop5mk\\fastfm_87fb30de866948c4b24add440b2f48cd\\fastFM\\../fastFM-core/externals/CXSparse/Include/cs.h(391): error C2143: syntax error: missing '{' before '*'\n",
      "  C:\\Users\\laimy\\AppData\\Local\\Temp\\pip-install-grtop5mk\\fastfm_87fb30de866948c4b24add440b2f48cd\\fastFM\\../fastFM-core/externals/CXSparse/Include/cs.h(391): error C2059: syntax error: 'type'\n",
      "  C:\\Users\\laimy\\AppData\\Local\\Temp\\pip-install-grtop5mk\\fastfm_87fb30de866948c4b24add440b2f48cd\\fastFM\\../fastFM-core/externals/CXSparse/Include/cs.h(391): error C2059: syntax error: ')'\n",
      "  C:\\Users\\laimy\\AppData\\Local\\Temp\\pip-install-grtop5mk\\fastfm_87fb30de866948c4b24add440b2f48cd\\fastFM\\../fastFM-core/externals/CXSparse/Include/cs.h(392): error C2143: syntax error: missing ')' before '*'\n",
      "  C:\\Users\\laimy\\AppData\\Local\\Temp\\pip-install-grtop5mk\\fastfm_87fb30de866948c4b24add440b2f48cd\\fastFM\\../fastFM-core/externals/CXSparse/Include/cs.h(392): error C2143: syntax error: missing '{' before '*'\n",
      "  C:\\Users\\laimy\\AppData\\Local\\Temp\\pip-install-grtop5mk\\fastfm_87fb30de866948c4b24add440b2f48cd\\fastFM\\../fastFM-core/externals/CXSparse/Include/cs.h(392): error C2059: syntax error: 'type'\n",
      "  C:\\Users\\laimy\\AppData\\Local\\Temp\\pip-install-grtop5mk\\fastfm_87fb30de866948c4b24add440b2f48cd\\fastFM\\../fastFM-core/externals/CXSparse/Include/cs.h(392): error C2059: syntax error: ')'\n",
      "  C:\\Users\\laimy\\AppData\\Local\\Temp\\pip-install-grtop5mk\\fastfm_87fb30de866948c4b24add440b2f48cd\\fastFM\\../fastFM-core/externals/CXSparse/Include/cs.h(393): error C2143: syntax error: missing ')' before '*'\n",
      "  C:\\Users\\laimy\\AppData\\Local\\Temp\\pip-install-grtop5mk\\fastfm_87fb30de866948c4b24add440b2f48cd\\fastFM\\../fastFM-core/externals/CXSparse/Include/cs.h(393): error C2143: syntax error: missing '{' before '*'\n",
      "  C:\\Users\\laimy\\AppData\\Local\\Temp\\pip-install-grtop5mk\\fastfm_87fb30de866948c4b24add440b2f48cd\\fastFM\\../fastFM-core/externals/CXSparse/Include/cs.h(393): error C2059: syntax error: 'type'\n",
      "  C:\\Users\\laimy\\AppData\\Local\\Temp\\pip-install-grtop5mk\\fastfm_87fb30de866948c4b24add440b2f48cd\\fastFM\\../fastFM-core/externals/CXSparse/Include/cs.h(393): error C2059: syntax error: ')'\n",
      "  C:\\Users\\laimy\\AppData\\Local\\Temp\\pip-install-grtop5mk\\fastfm_87fb30de866948c4b24add440b2f48cd\\fastFM\\../fastFM-core/externals/CXSparse/Include/cs.h(394): error C2143: syntax error: missing '{' before '*'\n",
      "  C:\\Users\\laimy\\AppData\\Local\\Temp\\pip-install-grtop5mk\\fastfm_87fb30de866948c4b24add440b2f48cd\\fastFM\\../fastFM-core/externals/CXSparse/Include/cs.h(394): error C2143: syntax error: missing ')' before '*'\n",
      "  C:\\Users\\laimy\\AppData\\Local\\Temp\\pip-install-grtop5mk\\fastfm_87fb30de866948c4b24add440b2f48cd\\fastFM\\../fastFM-core/externals/CXSparse/Include/cs.h(394): error C2371: 'cs_cis': redefinition; different basic types\n",
      "  C:\\Users\\laimy\\AppData\\Local\\Temp\\pip-install-grtop5mk\\fastfm_87fb30de866948c4b24add440b2f48cd\\fastFM\\../fastFM-core/externals/CXSparse/Include/cs.h(364): note: see declaration of 'cs_cis'\n",
      "  C:\\Users\\laimy\\AppData\\Local\\Temp\\pip-install-grtop5mk\\fastfm_87fb30de866948c4b24add440b2f48cd\\fastFM\\../fastFM-core/externals/CXSparse/Include/cs.h(394): warning C4228: nonstandard extension used: qualifiers after comma in declarator list are ignored\n",
      "  C:\\Users\\laimy\\AppData\\Local\\Temp\\pip-install-grtop5mk\\fastfm_87fb30de866948c4b24add440b2f48cd\\fastFM\\../fastFM-core/externals/CXSparse/Include/cs.h(394): error C2143: syntax error: missing ';' before '*'\n",
      "  C:\\Users\\laimy\\AppData\\Local\\Temp\\pip-install-grtop5mk\\fastfm_87fb30de866948c4b24add440b2f48cd\\fastFM\\../fastFM-core/externals/CXSparse/Include/cs.h(394): fatal error C1003: error count exceeds 100; stopping compilation\n",
      "  error: command 'D:\\\\Microsoft Visual Studio\\\\2019\\\\BuildTools\\\\VC\\\\Tools\\\\MSVC\\\\14.29.30133\\\\bin\\\\HostX86\\\\x64\\\\cl.exe' failed with exit status 2\n",
      "  ----------------------------------------\n",
      "  ERROR: Failed building wheel for fastfm\n",
      "    ERROR: Command errored out with exit status 1:\n",
      "     command: 'D:\\anaconda3\\python.exe' -u -c 'import sys, setuptools, tokenize; sys.argv[0] = '\"'\"'C:\\\\Users\\\\laimy\\\\AppData\\\\Local\\\\Temp\\\\pip-install-grtop5mk\\\\fastfm_87fb30de866948c4b24add440b2f48cd\\\\setup.py'\"'\"'; __file__='\"'\"'C:\\\\Users\\\\laimy\\\\AppData\\\\Local\\\\Temp\\\\pip-install-grtop5mk\\\\fastfm_87fb30de866948c4b24add440b2f48cd\\\\setup.py'\"'\"';f=getattr(tokenize, '\"'\"'open'\"'\"', open)(__file__);code=f.read().replace('\"'\"'\\r\\n'\"'\"', '\"'\"'\\n'\"'\"');f.close();exec(compile(code, __file__, '\"'\"'exec'\"'\"'))' install --record 'C:\\Users\\laimy\\AppData\\Local\\Temp\\pip-record-s6b41q34\\install-record.txt' --single-version-externally-managed --compile --install-headers 'D:\\anaconda3\\Include\\fastfm'\n",
      "         cwd: C:\\Users\\laimy\\AppData\\Local\\Temp\\pip-install-grtop5mk\\fastfm_87fb30de866948c4b24add440b2f48cd\\\n",
      "    Complete output (133 lines):\n",
      "    running install\n",
      "    running build\n",
      "    running build_py\n",
      "    creating build\n",
      "    creating build\\lib.win-amd64-3.8\n",
      "    creating build\\lib.win-amd64-3.8\\fastFM\n",
      "    copying fastFM\\als.py -> build\\lib.win-amd64-3.8\\fastFM\n",
      "    copying fastFM\\base.py -> build\\lib.win-amd64-3.8\\fastFM\n",
      "    copying fastFM\\bpr.py -> build\\lib.win-amd64-3.8\\fastFM\n",
      "    copying fastFM\\datasets.py -> build\\lib.win-amd64-3.8\\fastFM\n",
      "    copying fastFM\\mcmc.py -> build\\lib.win-amd64-3.8\\fastFM\n",
      "    copying fastFM\\sgd.py -> build\\lib.win-amd64-3.8\\fastFM\n",
      "    copying fastFM\\utils.py -> build\\lib.win-amd64-3.8\\fastFM\n",
      "    copying fastFM\\validation.py -> build\\lib.win-amd64-3.8\\fastFM\n",
      "    copying fastFM\\__init__.py -> build\\lib.win-amd64-3.8\\fastFM\n",
      "    running build_ext\n",
      "    skipping 'fastFM\\ffm.c' Cython extension (up-to-date)\n",
      "    building 'ffm' extension\n",
      "    creating build\\temp.win-amd64-3.8\n",
      "    creating build\\temp.win-amd64-3.8\\Release\n",
      "    creating build\\temp.win-amd64-3.8\\Release\\fastFM\n",
      "    D:\\Microsoft Visual Studio\\2019\\BuildTools\\VC\\Tools\\MSVC\\14.29.30133\\bin\\HostX86\\x64\\cl.exe /c /nologo /Ox /W3 /GL /DNDEBUG /MD -IfastFM/ -IfastFM-core/include/ -IfastFM-core/externals/CXSparse/Include/ -ID:\\anaconda3\\lib\\site-packages\\numpy\\core\\include -ID:\\anaconda3\\include -ID:\\anaconda3\\include \"-ID:\\Microsoft Visual Studio\\2019\\BuildTools\\VC\\Tools\\MSVC\\14.29.30133\\include\" \"-IC:\\Program Files (x86)\\Windows Kits\\10\\include\\10.0.19041.0\\ucrt\" \"-IC:\\Program Files (x86)\\Windows Kits\\10\\include\\10.0.19041.0\\shared\" \"-IC:\\Program Files (x86)\\Windows Kits\\10\\include\\10.0.19041.0\\um\" \"-IC:\\Program Files (x86)\\Windows Kits\\10\\include\\10.0.19041.0\\winrt\" \"-IC:\\Program Files (x86)\\Windows Kits\\10\\include\\10.0.19041.0\\cppwinrt\" /TcfastFM\\ffm.c /Fobuild\\temp.win-amd64-3.8\\Release\\fastFM\\ffm.obj\n",
      "    ffm.c\n",
      "    C:\\Users\\laimy\\AppData\\Local\\Temp\\pip-install-grtop5mk\\fastfm_87fb30de866948c4b24add440b2f48cd\\fastFM\\../fastFM-core/externals/CXSparse/Include/cs.h(324): error C2143: syntax error: missing ';' before '*'\n",
      "    C:\\Users\\laimy\\AppData\\Local\\Temp\\pip-install-grtop5mk\\fastfm_87fb30de866948c4b24add440b2f48cd\\fastFM\\../fastFM-core/externals/CXSparse/Include/cs.h(324): error C2059: syntax error: '*'\n",
      "    C:\\Users\\laimy\\AppData\\Local\\Temp\\pip-install-grtop5mk\\fastfm_87fb30de866948c4b24add440b2f48cd\\fastFM\\../fastFM-core/externals/CXSparse/Include/cs.h(326): error C2059: syntax error: '}'\n",
      "    C:\\Users\\laimy\\AppData\\Local\\Temp\\pip-install-grtop5mk\\fastfm_87fb30de866948c4b24add440b2f48cd\\fastFM\\../fastFM-core/externals/CXSparse/Include/cs.h(328): error C2143: syntax error: missing '{' before '*'\n",
      "    C:\\Users\\laimy\\AppData\\Local\\Temp\\pip-install-grtop5mk\\fastfm_87fb30de866948c4b24add440b2f48cd\\fastFM\\../fastFM-core/externals/CXSparse/Include/cs.h(328): error C2143: syntax error: missing ')' before '*'\n",
      "    C:\\Users\\laimy\\AppData\\Local\\Temp\\pip-install-grtop5mk\\fastfm_87fb30de866948c4b24add440b2f48cd\\fastFM\\../fastFM-core/externals/CXSparse/Include/cs.h(328): warning C4228: nonstandard extension used: qualifiers after comma in declarator list are ignored\n",
      "    C:\\Users\\laimy\\AppData\\Local\\Temp\\pip-install-grtop5mk\\fastfm_87fb30de866948c4b24add440b2f48cd\\fastFM\\../fastFM-core/externals/CXSparse/Include/cs.h(328): error C2143: syntax error: missing ';' before '*'\n",
      "    C:\\Users\\laimy\\AppData\\Local\\Temp\\pip-install-grtop5mk\\fastfm_87fb30de866948c4b24add440b2f48cd\\fastFM\\../fastFM-core/externals/CXSparse/Include/cs.h(328): error C2059: syntax error: 'type'\n",
      "    C:\\Users\\laimy\\AppData\\Local\\Temp\\pip-install-grtop5mk\\fastfm_87fb30de866948c4b24add440b2f48cd\\fastFM\\../fastFM-core/externals/CXSparse/Include/cs.h(329): error C2059: syntax error: ')'\n",
      "    C:\\Users\\laimy\\AppData\\Local\\Temp\\pip-install-grtop5mk\\fastfm_87fb30de866948c4b24add440b2f48cd\\fastFM\\../fastFM-core/externals/CXSparse/Include/cs.h(330): error C2143: syntax error: missing ')' before '*'\n",
      "    C:\\Users\\laimy\\AppData\\Local\\Temp\\pip-install-grtop5mk\\fastfm_87fb30de866948c4b24add440b2f48cd\\fastFM\\../fastFM-core/externals/CXSparse/Include/cs.h(330): error C2143: syntax error: missing '{' before '*'\n",
      "    C:\\Users\\laimy\\AppData\\Local\\Temp\\pip-install-grtop5mk\\fastfm_87fb30de866948c4b24add440b2f48cd\\fastFM\\../fastFM-core/externals/CXSparse/Include/cs.h(330): error C2059: syntax error: 'type'\n",
      "    C:\\Users\\laimy\\AppData\\Local\\Temp\\pip-install-grtop5mk\\fastfm_87fb30de866948c4b24add440b2f48cd\\fastFM\\../fastFM-core/externals/CXSparse/Include/cs.h(330): error C2059: syntax error: ')'\n",
      "    C:\\Users\\laimy\\AppData\\Local\\Temp\\pip-install-grtop5mk\\fastfm_87fb30de866948c4b24add440b2f48cd\\fastFM\\../fastFM-core/externals/CXSparse/Include/cs.h(331): error C2143: syntax error: missing ')' before '*'\n",
      "    C:\\Users\\laimy\\AppData\\Local\\Temp\\pip-install-grtop5mk\\fastfm_87fb30de866948c4b24add440b2f48cd\\fastFM\\../fastFM-core/externals/CXSparse/Include/cs.h(331): error C2143: syntax error: missing '{' before '*'\n",
      "    C:\\Users\\laimy\\AppData\\Local\\Temp\\pip-install-grtop5mk\\fastfm_87fb30de866948c4b24add440b2f48cd\\fastFM\\../fastFM-core/externals/CXSparse/Include/cs.h(331): error C2059: syntax error: ')'\n",
      "    C:\\Users\\laimy\\AppData\\Local\\Temp\\pip-install-grtop5mk\\fastfm_87fb30de866948c4b24add440b2f48cd\\fastFM\\../fastFM-core/externals/CXSparse/Include/cs.h(332): error C2143: syntax error: missing ')' before '*'\n",
      "    C:\\Users\\laimy\\AppData\\Local\\Temp\\pip-install-grtop5mk\\fastfm_87fb30de866948c4b24add440b2f48cd\\fastFM\\../fastFM-core/externals/CXSparse/Include/cs.h(332): error C2143: syntax error: missing '{' before '*'\n",
      "    C:\\Users\\laimy\\AppData\\Local\\Temp\\pip-install-grtop5mk\\fastfm_87fb30de866948c4b24add440b2f48cd\\fastFM\\../fastFM-core/externals/CXSparse/Include/cs.h(332): error C2059: syntax error: 'type'\n",
      "    C:\\Users\\laimy\\AppData\\Local\\Temp\\pip-install-grtop5mk\\fastfm_87fb30de866948c4b24add440b2f48cd\\fastFM\\../fastFM-core/externals/CXSparse/Include/cs.h(332): error C2059: syntax error: ')'\n",
      "    C:\\Users\\laimy\\AppData\\Local\\Temp\\pip-install-grtop5mk\\fastfm_87fb30de866948c4b24add440b2f48cd\\fastFM\\../fastFM-core/externals/CXSparse/Include/cs.h(333): error C2143: syntax error: missing ')' before '*'\n",
      "    C:\\Users\\laimy\\AppData\\Local\\Temp\\pip-install-grtop5mk\\fastfm_87fb30de866948c4b24add440b2f48cd\\fastFM\\../fastFM-core/externals/CXSparse/Include/cs.h(333): error C2143: syntax error: missing '{' before '*'\n",
      "    C:\\Users\\laimy\\AppData\\Local\\Temp\\pip-install-grtop5mk\\fastfm_87fb30de866948c4b24add440b2f48cd\\fastFM\\../fastFM-core/externals/CXSparse/Include/cs.h(333): error C2059: syntax error: 'type'\n",
      "    C:\\Users\\laimy\\AppData\\Local\\Temp\\pip-install-grtop5mk\\fastfm_87fb30de866948c4b24add440b2f48cd\\fastFM\\../fastFM-core/externals/CXSparse/Include/cs.h(333): error C2059: syntax error: ')'\n",
      "    C:\\Users\\laimy\\AppData\\Local\\Temp\\pip-install-grtop5mk\\fastfm_87fb30de866948c4b24add440b2f48cd\\fastFM\\../fastFM-core/externals/CXSparse/Include/cs.h(334): error C2143: syntax error: missing ')' before '*'\n",
      "    C:\\Users\\laimy\\AppData\\Local\\Temp\\pip-install-grtop5mk\\fastfm_87fb30de866948c4b24add440b2f48cd\\fastFM\\../fastFM-core/externals/CXSparse/Include/cs.h(334): error C2143: syntax error: missing '{' before '*'\n",
      "    C:\\Users\\laimy\\AppData\\Local\\Temp\\pip-install-grtop5mk\\fastfm_87fb30de866948c4b24add440b2f48cd\\fastFM\\../fastFM-core/externals/CXSparse/Include/cs.h(334): error C2059: syntax error: 'type'\n",
      "    C:\\Users\\laimy\\AppData\\Local\\Temp\\pip-install-grtop5mk\\fastfm_87fb30de866948c4b24add440b2f48cd\\fastFM\\../fastFM-core/externals/CXSparse/Include/cs.h(334): error C2059: syntax error: ')'\n",
      "    C:\\Users\\laimy\\AppData\\Local\\Temp\\pip-install-grtop5mk\\fastfm_87fb30de866948c4b24add440b2f48cd\\fastFM\\../fastFM-core/externals/CXSparse/Include/cs.h(335): error C2143: syntax error: missing '{' before '*'\n",
      "    C:\\Users\\laimy\\AppData\\Local\\Temp\\pip-install-grtop5mk\\fastfm_87fb30de866948c4b24add440b2f48cd\\fastFM\\../fastFM-core/externals/CXSparse/Include/cs.h(335): error C2143: syntax error: missing ')' before '*'\n",
      "    C:\\Users\\laimy\\AppData\\Local\\Temp\\pip-install-grtop5mk\\fastfm_87fb30de866948c4b24add440b2f48cd\\fastFM\\../fastFM-core/externals/CXSparse/Include/cs.h(335): warning C4228: nonstandard extension used: qualifiers after comma in declarator list are ignored\n",
      "    C:\\Users\\laimy\\AppData\\Local\\Temp\\pip-install-grtop5mk\\fastfm_87fb30de866948c4b24add440b2f48cd\\fastFM\\../fastFM-core/externals/CXSparse/Include/cs.h(335): error C2143: syntax error: missing ';' before '*'\n",
      "    C:\\Users\\laimy\\AppData\\Local\\Temp\\pip-install-grtop5mk\\fastfm_87fb30de866948c4b24add440b2f48cd\\fastFM\\../fastFM-core/externals/CXSparse/Include/cs.h(335): error C2059: syntax error: ')'\n",
      "    C:\\Users\\laimy\\AppData\\Local\\Temp\\pip-install-grtop5mk\\fastfm_87fb30de866948c4b24add440b2f48cd\\fastFM\\../fastFM-core/externals/CXSparse/Include/cs.h(336): error C2143: syntax error: missing ')' before '*'\n",
      "    C:\\Users\\laimy\\AppData\\Local\\Temp\\pip-install-grtop5mk\\fastfm_87fb30de866948c4b24add440b2f48cd\\fastFM\\../fastFM-core/externals/CXSparse/Include/cs.h(336): error C2143: syntax error: missing '{' before '*'\n",
      "    C:\\Users\\laimy\\AppData\\Local\\Temp\\pip-install-grtop5mk\\fastfm_87fb30de866948c4b24add440b2f48cd\\fastFM\\../fastFM-core/externals/CXSparse/Include/cs.h(336): error C2059: syntax error: 'type'\n",
      "    C:\\Users\\laimy\\AppData\\Local\\Temp\\pip-install-grtop5mk\\fastfm_87fb30de866948c4b24add440b2f48cd\\fastFM\\../fastFM-core/externals/CXSparse/Include/cs.h(336): error C2059: syntax error: ')'\n",
      "    C:\\Users\\laimy\\AppData\\Local\\Temp\\pip-install-grtop5mk\\fastfm_87fb30de866948c4b24add440b2f48cd\\fastFM\\../fastFM-core/externals/CXSparse/Include/cs.h(337): error C2143: syntax error: missing '{' before '*'\n",
      "    C:\\Users\\laimy\\AppData\\Local\\Temp\\pip-install-grtop5mk\\fastfm_87fb30de866948c4b24add440b2f48cd\\fastFM\\../fastFM-core/externals/CXSparse/Include/cs.h(337): error C2143: syntax error: missing ')' before '*'\n",
      "    C:\\Users\\laimy\\AppData\\Local\\Temp\\pip-install-grtop5mk\\fastfm_87fb30de866948c4b24add440b2f48cd\\fastFM\\../fastFM-core/externals/CXSparse/Include/cs.h(337): error C2059: syntax error: 'type'\n",
      "    C:\\Users\\laimy\\AppData\\Local\\Temp\\pip-install-grtop5mk\\fastfm_87fb30de866948c4b24add440b2f48cd\\fastFM\\../fastFM-core/externals/CXSparse/Include/cs.h(337): error C2059: syntax error: ')'\n",
      "    C:\\Users\\laimy\\AppData\\Local\\Temp\\pip-install-grtop5mk\\fastfm_87fb30de866948c4b24add440b2f48cd\\fastFM\\../fastFM-core/externals/CXSparse/Include/cs.h(338): error C2143: syntax error: missing '{' before '*'\n",
      "    C:\\Users\\laimy\\AppData\\Local\\Temp\\pip-install-grtop5mk\\fastfm_87fb30de866948c4b24add440b2f48cd\\fastFM\\../fastFM-core/externals/CXSparse/Include/cs.h(338): error C2143: syntax error: missing ')' before '*'\n",
      "    C:\\Users\\laimy\\AppData\\Local\\Temp\\pip-install-grtop5mk\\fastfm_87fb30de866948c4b24add440b2f48cd\\fastFM\\../fastFM-core/externals/CXSparse/Include/cs.h(338): error C2059: syntax error: ')'\n",
      "    C:\\Users\\laimy\\AppData\\Local\\Temp\\pip-install-grtop5mk\\fastfm_87fb30de866948c4b24add440b2f48cd\\fastFM\\../fastFM-core/externals/CXSparse/Include/cs.h(339): error C2143: syntax error: missing ')' before '*'\n",
      "    C:\\Users\\laimy\\AppData\\Local\\Temp\\pip-install-grtop5mk\\fastfm_87fb30de866948c4b24add440b2f48cd\\fastFM\\../fastFM-core/externals/CXSparse/Include/cs.h(339): error C2143: syntax error: missing '{' before '*'\n",
      "    C:\\Users\\laimy\\AppData\\Local\\Temp\\pip-install-grtop5mk\\fastfm_87fb30de866948c4b24add440b2f48cd\\fastFM\\../fastFM-core/externals/CXSparse/Include/cs.h(339): error C2059: syntax error: ')'\n",
      "    C:\\Users\\laimy\\AppData\\Local\\Temp\\pip-install-grtop5mk\\fastfm_87fb30de866948c4b24add440b2f48cd\\fastFM\\../fastFM-core/externals/CXSparse/Include/cs.h(340): error C2143: syntax error: missing ')' before '*'\n",
      "    C:\\Users\\laimy\\AppData\\Local\\Temp\\pip-install-grtop5mk\\fastfm_87fb30de866948c4b24add440b2f48cd\\fastFM\\../fastFM-core/externals/CXSparse/Include/cs.h(340): error C2143: syntax error: missing '{' before '*'\n",
      "    C:\\Users\\laimy\\AppData\\Local\\Temp\\pip-install-grtop5mk\\fastfm_87fb30de866948c4b24add440b2f48cd\\fastFM\\../fastFM-core/externals/CXSparse/Include/cs.h(340): error C2059: syntax error: 'type'\n",
      "    C:\\Users\\laimy\\AppData\\Local\\Temp\\pip-install-grtop5mk\\fastfm_87fb30de866948c4b24add440b2f48cd\\fastFM\\../fastFM-core/externals/CXSparse/Include/cs.h(340): error C2059: syntax error: ')'\n",
      "    C:\\Users\\laimy\\AppData\\Local\\Temp\\pip-install-grtop5mk\\fastfm_87fb30de866948c4b24add440b2f48cd\\fastFM\\../fastFM-core/externals/CXSparse/Include/cs.h(341): error C2143: syntax error: missing '{' before '*'\n",
      "    C:\\Users\\laimy\\AppData\\Local\\Temp\\pip-install-grtop5mk\\fastfm_87fb30de866948c4b24add440b2f48cd\\fastFM\\../fastFM-core/externals/CXSparse/Include/cs.h(347): error C2143: syntax error: missing '{' before '*'\n",
      "    C:\\Users\\laimy\\AppData\\Local\\Temp\\pip-install-grtop5mk\\fastfm_87fb30de866948c4b24add440b2f48cd\\fastFM\\../fastFM-core/externals/CXSparse/Include/cs.h(348): error C2143: syntax error: missing '{' before '*'\n",
      "    C:\\Users\\laimy\\AppData\\Local\\Temp\\pip-install-grtop5mk\\fastfm_87fb30de866948c4b24add440b2f48cd\\fastFM\\../fastFM-core/externals/CXSparse/Include/cs.h(348): error C2143: syntax error: missing ')' before '*'\n",
      "    C:\\Users\\laimy\\AppData\\Local\\Temp\\pip-install-grtop5mk\\fastfm_87fb30de866948c4b24add440b2f48cd\\fastFM\\../fastFM-core/externals/CXSparse/Include/cs.h(348): error C2059: syntax error: ')'\n",
      "    C:\\Users\\laimy\\AppData\\Local\\Temp\\pip-install-grtop5mk\\fastfm_87fb30de866948c4b24add440b2f48cd\\fastFM\\../fastFM-core/externals/CXSparse/Include/cs.h(349): error C2143: syntax error: missing ')' before '*'\n",
      "    C:\\Users\\laimy\\AppData\\Local\\Temp\\pip-install-grtop5mk\\fastfm_87fb30de866948c4b24add440b2f48cd\\fastFM\\../fastFM-core/externals/CXSparse/Include/cs.h(349): error C2143: syntax error: missing '{' before '*'\n",
      "    C:\\Users\\laimy\\AppData\\Local\\Temp\\pip-install-grtop5mk\\fastfm_87fb30de866948c4b24add440b2f48cd\\fastFM\\../fastFM-core/externals/CXSparse/Include/cs.h(349): error C2059: syntax error: 'type'\n",
      "    C:\\Users\\laimy\\AppData\\Local\\Temp\\pip-install-grtop5mk\\fastfm_87fb30de866948c4b24add440b2f48cd\\fastFM\\../fastFM-core/externals/CXSparse/Include/cs.h(349): error C2059: syntax error: ')'\n",
      "    C:\\Users\\laimy\\AppData\\Local\\Temp\\pip-install-grtop5mk\\fastfm_87fb30de866948c4b24add440b2f48cd\\fastFM\\../fastFM-core/externals/CXSparse/Include/cs.h(368): error C2061: syntax error: identifier 'cs_ci'\n",
      "    C:\\Users\\laimy\\AppData\\Local\\Temp\\pip-install-grtop5mk\\fastfm_87fb30de866948c4b24add440b2f48cd\\fastFM\\../fastFM-core/externals/CXSparse/Include/cs.h(369): error C2143: syntax error: missing '{' before '*'\n",
      "    C:\\Users\\laimy\\AppData\\Local\\Temp\\pip-install-grtop5mk\\fastfm_87fb30de866948c4b24add440b2f48cd\\fastFM\\../fastFM-core/externals/CXSparse/Include/cs.h(371): error C2371: 'B': redefinition; different basic types\n",
      "    C:\\Users\\laimy\\AppData\\Local\\Temp\\pip-install-grtop5mk\\fastfm_87fb30de866948c4b24add440b2f48cd\\fastFM\\../fastFM-core/externals/CXSparse/Include/cs.h(335): note: see declaration of 'B'\n",
      "    C:\\Users\\laimy\\AppData\\Local\\Temp\\pip-install-grtop5mk\\fastfm_87fb30de866948c4b24add440b2f48cd\\fastFM\\../fastFM-core/externals/CXSparse/Include/cs.h(372): error C2059: syntax error: '}'\n",
      "    C:\\Users\\laimy\\AppData\\Local\\Temp\\pip-install-grtop5mk\\fastfm_87fb30de866948c4b24add440b2f48cd\\fastFM\\../fastFM-core/externals/CXSparse/Include/cs.h(385): error C2143: syntax error: missing ')' before '*'\n",
      "    C:\\Users\\laimy\\AppData\\Local\\Temp\\pip-install-grtop5mk\\fastfm_87fb30de866948c4b24add440b2f48cd\\fastFM\\../fastFM-core/externals/CXSparse/Include/cs.h(385): error C2143: syntax error: missing '{' before '*'\n",
      "    C:\\Users\\laimy\\AppData\\Local\\Temp\\pip-install-grtop5mk\\fastfm_87fb30de866948c4b24add440b2f48cd\\fastFM\\../fastFM-core/externals/CXSparse/Include/cs.h(385): error C2059: syntax error: ')'\n",
      "    C:\\Users\\laimy\\AppData\\Local\\Temp\\pip-install-grtop5mk\\fastfm_87fb30de866948c4b24add440b2f48cd\\fastFM\\../fastFM-core/externals/CXSparse/Include/cs.h(386): error C2143: syntax error: missing '{' before '*'\n",
      "    C:\\Users\\laimy\\AppData\\Local\\Temp\\pip-install-grtop5mk\\fastfm_87fb30de866948c4b24add440b2f48cd\\fastFM\\../fastFM-core/externals/CXSparse/Include/cs.h(386): error C2143: syntax error: missing ')' before '*'\n",
      "    C:\\Users\\laimy\\AppData\\Local\\Temp\\pip-install-grtop5mk\\fastfm_87fb30de866948c4b24add440b2f48cd\\fastFM\\../fastFM-core/externals/CXSparse/Include/cs.h(386): error C2371: 'cs_cis': redefinition; different basic types\n",
      "    C:\\Users\\laimy\\AppData\\Local\\Temp\\pip-install-grtop5mk\\fastfm_87fb30de866948c4b24add440b2f48cd\\fastFM\\../fastFM-core/externals/CXSparse/Include/cs.h(364): note: see declaration of 'cs_cis'\n",
      "    C:\\Users\\laimy\\AppData\\Local\\Temp\\pip-install-grtop5mk\\fastfm_87fb30de866948c4b24add440b2f48cd\\fastFM\\../fastFM-core/externals/CXSparse/Include/cs.h(386): warning C4228: nonstandard extension used: qualifiers after comma in declarator list are ignored\n",
      "    C:\\Users\\laimy\\AppData\\Local\\Temp\\pip-install-grtop5mk\\fastfm_87fb30de866948c4b24add440b2f48cd\\fastFM\\../fastFM-core/externals/CXSparse/Include/cs.h(386): error C2143: syntax error: missing ';' before '*'\n",
      "    C:\\Users\\laimy\\AppData\\Local\\Temp\\pip-install-grtop5mk\\fastfm_87fb30de866948c4b24add440b2f48cd\\fastFM\\../fastFM-core/externals/CXSparse/Include/cs.h(386): error C2059: syntax error: ')'\n",
      "    C:\\Users\\laimy\\AppData\\Local\\Temp\\pip-install-grtop5mk\\fastfm_87fb30de866948c4b24add440b2f48cd\\fastFM\\../fastFM-core/externals/CXSparse/Include/cs.h(387): error C2143: syntax error: missing ')' before '*'\n",
      "    C:\\Users\\laimy\\AppData\\Local\\Temp\\pip-install-grtop5mk\\fastfm_87fb30de866948c4b24add440b2f48cd\\fastFM\\../fastFM-core/externals/CXSparse/Include/cs.h(387): error C2143: syntax error: missing '{' before '*'\n",
      "    C:\\Users\\laimy\\AppData\\Local\\Temp\\pip-install-grtop5mk\\fastfm_87fb30de866948c4b24add440b2f48cd\\fastFM\\../fastFM-core/externals/CXSparse/Include/cs.h(387): error C2059: syntax error: 'type'\n",
      "    C:\\Users\\laimy\\AppData\\Local\\Temp\\pip-install-grtop5mk\\fastfm_87fb30de866948c4b24add440b2f48cd\\fastFM\\../fastFM-core/externals/CXSparse/Include/cs.h(387): error C2059: syntax error: ')'\n",
      "    C:\\Users\\laimy\\AppData\\Local\\Temp\\pip-install-grtop5mk\\fastfm_87fb30de866948c4b24add440b2f48cd\\fastFM\\../fastFM-core/externals/CXSparse/Include/cs.h(388): error C2143: syntax error: missing ')' before '*'\n",
      "    C:\\Users\\laimy\\AppData\\Local\\Temp\\pip-install-grtop5mk\\fastfm_87fb30de866948c4b24add440b2f48cd\\fastFM\\../fastFM-core/externals/CXSparse/Include/cs.h(388): error C2143: syntax error: missing '{' before '*'\n"
     ]
    },
    {
     "name": "stderr",
     "output_type": "stream",
     "text": [
      "    C:\\Users\\laimy\\AppData\\Local\\Temp\\pip-install-grtop5mk\\fastfm_87fb30de866948c4b24add440b2f48cd\\fastFM\\../fastFM-core/externals/CXSparse/Include/cs.h(388): error C2059: syntax error: 'type'\n",
      "    C:\\Users\\laimy\\AppData\\Local\\Temp\\pip-install-grtop5mk\\fastfm_87fb30de866948c4b24add440b2f48cd\\fastFM\\../fastFM-core/externals/CXSparse/Include/cs.h(388): error C2059: syntax error: ')'\n",
      "    C:\\Users\\laimy\\AppData\\Local\\Temp\\pip-install-grtop5mk\\fastfm_87fb30de866948c4b24add440b2f48cd\\fastFM\\../fastFM-core/externals/CXSparse/Include/cs.h(389): error C2143: syntax error: missing ')' before '*'\n",
      "    C:\\Users\\laimy\\AppData\\Local\\Temp\\pip-install-grtop5mk\\fastfm_87fb30de866948c4b24add440b2f48cd\\fastFM\\../fastFM-core/externals/CXSparse/Include/cs.h(389): error C2143: syntax error: missing '{' before '*'\n",
      "    C:\\Users\\laimy\\AppData\\Local\\Temp\\pip-install-grtop5mk\\fastfm_87fb30de866948c4b24add440b2f48cd\\fastFM\\../fastFM-core/externals/CXSparse/Include/cs.h(389): error C2059: syntax error: ')'\n",
      "    C:\\Users\\laimy\\AppData\\Local\\Temp\\pip-install-grtop5mk\\fastfm_87fb30de866948c4b24add440b2f48cd\\fastFM\\../fastFM-core/externals/CXSparse/Include/cs.h(390): error C2143: syntax error: missing ')' before '*'\n",
      "    C:\\Users\\laimy\\AppData\\Local\\Temp\\pip-install-grtop5mk\\fastfm_87fb30de866948c4b24add440b2f48cd\\fastFM\\../fastFM-core/externals/CXSparse/Include/cs.h(390): error C2143: syntax error: missing '{' before '*'\n",
      "    C:\\Users\\laimy\\AppData\\Local\\Temp\\pip-install-grtop5mk\\fastfm_87fb30de866948c4b24add440b2f48cd\\fastFM\\../fastFM-core/externals/CXSparse/Include/cs.h(390): error C2059: syntax error: 'type'\n",
      "    C:\\Users\\laimy\\AppData\\Local\\Temp\\pip-install-grtop5mk\\fastfm_87fb30de866948c4b24add440b2f48cd\\fastFM\\../fastFM-core/externals/CXSparse/Include/cs.h(390): error C2059: syntax error: ')'\n",
      "    C:\\Users\\laimy\\AppData\\Local\\Temp\\pip-install-grtop5mk\\fastfm_87fb30de866948c4b24add440b2f48cd\\fastFM\\../fastFM-core/externals/CXSparse/Include/cs.h(391): error C2143: syntax error: missing ')' before '*'\n",
      "    C:\\Users\\laimy\\AppData\\Local\\Temp\\pip-install-grtop5mk\\fastfm_87fb30de866948c4b24add440b2f48cd\\fastFM\\../fastFM-core/externals/CXSparse/Include/cs.h(391): error C2143: syntax error: missing '{' before '*'\n",
      "    C:\\Users\\laimy\\AppData\\Local\\Temp\\pip-install-grtop5mk\\fastfm_87fb30de866948c4b24add440b2f48cd\\fastFM\\../fastFM-core/externals/CXSparse/Include/cs.h(391): error C2059: syntax error: 'type'\n",
      "    C:\\Users\\laimy\\AppData\\Local\\Temp\\pip-install-grtop5mk\\fastfm_87fb30de866948c4b24add440b2f48cd\\fastFM\\../fastFM-core/externals/CXSparse/Include/cs.h(391): error C2059: syntax error: ')'\n",
      "    C:\\Users\\laimy\\AppData\\Local\\Temp\\pip-install-grtop5mk\\fastfm_87fb30de866948c4b24add440b2f48cd\\fastFM\\../fastFM-core/externals/CXSparse/Include/cs.h(392): error C2143: syntax error: missing ')' before '*'\n",
      "    C:\\Users\\laimy\\AppData\\Local\\Temp\\pip-install-grtop5mk\\fastfm_87fb30de866948c4b24add440b2f48cd\\fastFM\\../fastFM-core/externals/CXSparse/Include/cs.h(392): error C2143: syntax error: missing '{' before '*'\n",
      "    C:\\Users\\laimy\\AppData\\Local\\Temp\\pip-install-grtop5mk\\fastfm_87fb30de866948c4b24add440b2f48cd\\fastFM\\../fastFM-core/externals/CXSparse/Include/cs.h(392): error C2059: syntax error: 'type'\n",
      "    C:\\Users\\laimy\\AppData\\Local\\Temp\\pip-install-grtop5mk\\fastfm_87fb30de866948c4b24add440b2f48cd\\fastFM\\../fastFM-core/externals/CXSparse/Include/cs.h(392): error C2059: syntax error: ')'\n",
      "    C:\\Users\\laimy\\AppData\\Local\\Temp\\pip-install-grtop5mk\\fastfm_87fb30de866948c4b24add440b2f48cd\\fastFM\\../fastFM-core/externals/CXSparse/Include/cs.h(393): error C2143: syntax error: missing ')' before '*'\n",
      "    C:\\Users\\laimy\\AppData\\Local\\Temp\\pip-install-grtop5mk\\fastfm_87fb30de866948c4b24add440b2f48cd\\fastFM\\../fastFM-core/externals/CXSparse/Include/cs.h(393): error C2143: syntax error: missing '{' before '*'\n",
      "    C:\\Users\\laimy\\AppData\\Local\\Temp\\pip-install-grtop5mk\\fastfm_87fb30de866948c4b24add440b2f48cd\\fastFM\\../fastFM-core/externals/CXSparse/Include/cs.h(393): error C2059: syntax error: 'type'\n",
      "    C:\\Users\\laimy\\AppData\\Local\\Temp\\pip-install-grtop5mk\\fastfm_87fb30de866948c4b24add440b2f48cd\\fastFM\\../fastFM-core/externals/CXSparse/Include/cs.h(393): error C2059: syntax error: ')'\n",
      "    C:\\Users\\laimy\\AppData\\Local\\Temp\\pip-install-grtop5mk\\fastfm_87fb30de866948c4b24add440b2f48cd\\fastFM\\../fastFM-core/externals/CXSparse/Include/cs.h(394): error C2143: syntax error: missing '{' before '*'\n",
      "    C:\\Users\\laimy\\AppData\\Local\\Temp\\pip-install-grtop5mk\\fastfm_87fb30de866948c4b24add440b2f48cd\\fastFM\\../fastFM-core/externals/CXSparse/Include/cs.h(394): error C2143: syntax error: missing ')' before '*'\n",
      "    C:\\Users\\laimy\\AppData\\Local\\Temp\\pip-install-grtop5mk\\fastfm_87fb30de866948c4b24add440b2f48cd\\fastFM\\../fastFM-core/externals/CXSparse/Include/cs.h(394): error C2371: 'cs_cis': redefinition; different basic types\n",
      "    C:\\Users\\laimy\\AppData\\Local\\Temp\\pip-install-grtop5mk\\fastfm_87fb30de866948c4b24add440b2f48cd\\fastFM\\../fastFM-core/externals/CXSparse/Include/cs.h(364): note: see declaration of 'cs_cis'\n",
      "    C:\\Users\\laimy\\AppData\\Local\\Temp\\pip-install-grtop5mk\\fastfm_87fb30de866948c4b24add440b2f48cd\\fastFM\\../fastFM-core/externals/CXSparse/Include/cs.h(394): warning C4228: nonstandard extension used: qualifiers after comma in declarator list are ignored\n",
      "    C:\\Users\\laimy\\AppData\\Local\\Temp\\pip-install-grtop5mk\\fastfm_87fb30de866948c4b24add440b2f48cd\\fastFM\\../fastFM-core/externals/CXSparse/Include/cs.h(394): error C2143: syntax error: missing ';' before '*'\n",
      "    C:\\Users\\laimy\\AppData\\Local\\Temp\\pip-install-grtop5mk\\fastfm_87fb30de866948c4b24add440b2f48cd\\fastFM\\../fastFM-core/externals/CXSparse/Include/cs.h(394): fatal error C1003: error count exceeds 100; stopping compilation\n",
      "    error: command 'D:\\\\Microsoft Visual Studio\\\\2019\\\\BuildTools\\\\VC\\\\Tools\\\\MSVC\\\\14.29.30133\\\\bin\\\\HostX86\\\\x64\\\\cl.exe' failed with exit status 2\n",
      "    ----------------------------------------\n",
      "ERROR: Command errored out with exit status 1: 'D:\\anaconda3\\python.exe' -u -c 'import sys, setuptools, tokenize; sys.argv[0] = '\"'\"'C:\\\\Users\\\\laimy\\\\AppData\\\\Local\\\\Temp\\\\pip-install-grtop5mk\\\\fastfm_87fb30de866948c4b24add440b2f48cd\\\\setup.py'\"'\"'; __file__='\"'\"'C:\\\\Users\\\\laimy\\\\AppData\\\\Local\\\\Temp\\\\pip-install-grtop5mk\\\\fastfm_87fb30de866948c4b24add440b2f48cd\\\\setup.py'\"'\"';f=getattr(tokenize, '\"'\"'open'\"'\"', open)(__file__);code=f.read().replace('\"'\"'\\r\\n'\"'\"', '\"'\"'\\n'\"'\"');f.close();exec(compile(code, __file__, '\"'\"'exec'\"'\"'))' install --record 'C:\\Users\\laimy\\AppData\\Local\\Temp\\pip-record-s6b41q34\\install-record.txt' --single-version-externally-managed --compile --install-headers 'D:\\anaconda3\\Include\\fastfm' Check the logs for full command output.\n"
     ]
    }
   ],
   "source": [
    "pip install fastfm"
   ]
  },
  {
   "cell_type": "code",
   "execution_count": null,
   "id": "847c2f78",
   "metadata": {},
   "outputs": [],
   "source": []
  }
 ],
 "metadata": {
  "kernelspec": {
   "display_name": "Python 3",
   "language": "python",
   "name": "python3"
  },
  "language_info": {
   "codemirror_mode": {
    "name": "ipython",
    "version": 3
   },
   "file_extension": ".py",
   "mimetype": "text/x-python",
   "name": "python",
   "nbconvert_exporter": "python",
   "pygments_lexer": "ipython3",
   "version": "3.8.8"
  }
 },
 "nbformat": 4,
 "nbformat_minor": 5
}
