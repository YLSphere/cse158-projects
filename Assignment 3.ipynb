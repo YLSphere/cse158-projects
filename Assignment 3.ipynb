{
 "cells": [
  {
   "cell_type": "code",
   "execution_count": 212,
   "id": "1a20fca5",
   "metadata": {},
   "outputs": [],
   "source": [
    "import pandas as pd\n",
    "import numpy as np\n",
    "import seaborn as sns\n",
    "import os\n",
    "import json\n",
    "import matplotlib.pyplot as plt\n",
    "import scipy\n",
    "import dateutil.parser\n",
    "from sklearn.preprocessing import OneHotEncoder\n",
    "from sklearn import linear_model\n",
    "from sklearn.pipeline import Pipeline\n",
    "from sklearn.compose import ColumnTransformer\n",
    "from sklearn.model_selection import train_test_split\n",
    "import requests\n",
    "import json\n",
    "from collections import defaultdict\n",
    "import gzip\n",
    "import csv\n",
    "import random\n",
    "from sklearn.metrics import jaccard_score \n",
    "import re\n",
    "from sklearn.feature_extraction.text import CountVectorizer\n",
    "from sklearn.model_selection import GridSearchCV"
   ]
  },
  {
   "cell_type": "code",
   "execution_count": 213,
   "id": "8edb2a0c",
   "metadata": {},
   "outputs": [],
   "source": [
    "fp = os.path.join('data', 'trainInteractions.csv')\n",
    "df = pd.read_csv(fp)"
   ]
  },
  {
   "cell_type": "code",
   "execution_count": 214,
   "id": "5e447b49",
   "metadata": {},
   "outputs": [],
   "source": [
    "#TASKS 1 & 2\n",
    "train = df[0:400000]\n",
    "validation = df[400000:]\n"
   ]
  },
  {
   "cell_type": "code",
   "execution_count": 215,
   "id": "bd43d717",
   "metadata": {},
   "outputs": [],
   "source": [
    "#ALL UNIQUE RECIPES IN BOTH TRAINING AND VALIDATION SET\n",
    "all_recipes = list(df['recipe_id'].unique())\n"
   ]
  },
  {
   "cell_type": "code",
   "execution_count": 216,
   "id": "b85f99f8",
   "metadata": {
    "scrolled": true
   },
   "outputs": [],
   "source": [
    "#CREATING NEGATIVE SAMPLE\n",
    "validation_will_cook = validation.drop(['rating', 'date'], axis = 1).reset_index(drop = True)\n",
    "\n",
    "\n",
    "ids = []\n",
    "recipes = []\n",
    "binary = []\n",
    "for u in validation_will_cook['user_id']:\n",
    "    while True:\n",
    "        recipe = random.choice(all_recipes)\n",
    "        if recipe not in list(validation_will_cook[validation_will_cook['user_id'] == u]['recipe_id']):\n",
    "            ids.append(u)\n",
    "            recipes.append(recipe)\n",
    "            binary.append(0)\n",
    "            break"
   ]
  },
  {
   "cell_type": "code",
   "execution_count": 217,
   "id": "83e1aae6",
   "metadata": {},
   "outputs": [],
   "source": [
    "negative_samples = pd.DataFrame()\n",
    "negative_samples['user_id'], negative_samples['recipe_id'], negative_samples['will_cook'] = ids, recipes, binary\n"
   ]
  },
  {
   "cell_type": "code",
   "execution_count": 218,
   "id": "fa4d97cf",
   "metadata": {},
   "outputs": [],
   "source": [
    "validation_will_cook['will_cook'] = 1\n",
    "validation_will_cook_combined = pd.concat([negative_samples, validation_will_cook], ignore_index=True)"
   ]
  },
  {
   "cell_type": "code",
   "execution_count": 219,
   "id": "337914de",
   "metadata": {},
   "outputs": [],
   "source": [
    "def readGz(path):\n",
    "    for l in gzip.open(path, 'rt', encoding = \"UTF-8\"):\n",
    "        yield eval(l)\n",
    "\n",
    "def readCSV(path):\n",
    "    f = gzip.open(path, 'rt')\n",
    "    c = csv.reader(f)\n",
    "    header = next(c)\n",
    "    for l in c:\n",
    "        d = dict(zip(header,l))\n",
    "        yield d['user_id'],d['recipe_id'],d"
   ]
  },
  {
   "cell_type": "code",
   "execution_count": 220,
   "id": "3727331e",
   "metadata": {},
   "outputs": [],
   "source": [
    "#QUESTION 1\n",
    "\n",
    "recipeCount = defaultdict(int)\n",
    "totalCooked = 0\n",
    "\n",
    "for user,recipe,_ in readCSV(os.path.join('data', 'trainInteractions.csv.gz')):\n",
    "    recipeCount[recipe] += 1\n",
    "    totalCooked += 1\n",
    "\n",
    "mostPopular = [(recipeCount[x], x) for x in recipeCount]\n",
    "mostPopular.sort()\n",
    "mostPopular.reverse()\n",
    "\n",
    "return1 = set()\n",
    "count = 0\n",
    "for ic, i in mostPopular:\n",
    "    count += ic\n",
    "    return1.add(int(i))\n",
    "    if count > totalCooked/2: break\n",
    "\n",
    "predictions_will_cook = pd.DataFrame(columns = ['user_id', 'recipe_id', 'will_cook'])\n",
    "predictions_will_cook    \n",
    "\n",
    "ids = []\n",
    "recipes = []\n",
    "binary = []\n",
    "for n in range(validation_will_cook_combined.shape[0]):\n",
    "    result = validation_will_cook_combined.iloc[n]\n",
    "    if result['recipe_id'] in return1:\n",
    "        ids.append(result['user_id'])\n",
    "        recipes.append(result['recipe_id'])\n",
    "        binary.append(1)\n",
    "    else:\n",
    "        ids.append(result['user_id'])\n",
    "        recipes.append(result['recipe_id'])\n",
    "        binary.append(0)\n",
    "predictions_will_cook = pd.DataFrame()\n",
    "predictions_will_cook['user_id'], predictions_will_cook['recipe_id'], predictions_will_cook['will_cook'] = ids, recipes, binary"
   ]
  },
  {
   "cell_type": "code",
   "execution_count": 221,
   "id": "23ff81d6",
   "metadata": {},
   "outputs": [],
   "source": [
    "#CALCULATING ACCURACY\n",
    "predictions_will_cook['actual'] = validation_will_cook_combined['will_cook']\n",
    "pred = predictions_will_cook[['actual',  'will_cook']]"
   ]
  },
  {
   "cell_type": "code",
   "execution_count": 222,
   "id": "3c8e8f23",
   "metadata": {},
   "outputs": [],
   "source": [
    "def calculate_accuracy(df):\n",
    "    TP = df[(df['actual'] == 1) & (df['will_cook'] == 1)].shape[0]\n",
    "    TN = df[(df['actual'] == 0) & (df['will_cook'] == 0)].shape[0]\n",
    "    FP = df[(df['actual'] == 0) & (df['will_cook'] == 1)].shape[0]\n",
    "    FN = df[(df['actual'] == 1) & (df['will_cook'] == 0)].shape[0]\n",
    "    P = TP + FN\n",
    "    N = TN + FP\n",
    "    Accuracy = (TP + TN)/(P + N)\n",
    "    return Accuracy *100"
   ]
  },
  {
   "cell_type": "code",
   "execution_count": 223,
   "id": "4006f3db",
   "metadata": {},
   "outputs": [
    {
     "data": {
      "text/plain": [
       "69.47"
      ]
     },
     "execution_count": 223,
     "metadata": {},
     "output_type": "execute_result"
    }
   ],
   "source": [
    "calculate_accuracy(pred)"
   ]
  },
  {
   "cell_type": "code",
   "execution_count": 224,
   "id": "ccef4b96",
   "metadata": {},
   "outputs": [],
   "source": [
    "#QUESTION 2\n",
    "\n",
    "def made_cook_model(n):\n",
    "    recipeCount = defaultdict(int)\n",
    "    totalCooked = 0\n",
    "\n",
    "    for user,recipe,_ in readCSV(os.path.join('data', 'trainInteractions.csv.gz')):\n",
    "        recipeCount[recipe] += 1\n",
    "        totalCooked += 1\n",
    "\n",
    "    mostPopular = [(recipeCount[x], x) for x in recipeCount]\n",
    "    mostPopular.sort()\n",
    "    mostPopular.reverse()\n",
    "\n",
    "    return1 = set()\n",
    "    count = 0\n",
    "    for ic, i in mostPopular:\n",
    "        count += ic\n",
    "        return1.add(int(i))\n",
    "        if count > totalCooked/n: break\n",
    "\n",
    "    predictions_will_cook = pd.DataFrame(columns = ['user_id', 'recipe_id', 'will_cook'])\n",
    "    predictions_will_cook    \n",
    "\n",
    "    ids = []\n",
    "    recipes = []\n",
    "    binary = []\n",
    "    for n in range(validation_will_cook_combined.shape[0]):\n",
    "        result = validation_will_cook_combined.iloc[n]\n",
    "        if result['recipe_id'] in return1:\n",
    "            ids.append(result['user_id'])\n",
    "            recipes.append(result['recipe_id'])\n",
    "            binary.append(1)\n",
    "        else:\n",
    "            ids.append(result['user_id'])\n",
    "            recipes.append(result['recipe_id'])\n",
    "            binary.append(0)\n",
    "    predictions_will_cook = pd.DataFrame()\n",
    "    predictions_will_cook['user_id'], predictions_will_cook['recipe_id'], predictions_will_cook['will_cook'] = ids, recipes, binary\n",
    "    return predictions_will_cook"
   ]
  },
  {
   "cell_type": "code",
   "execution_count": 225,
   "id": "0443e1b4",
   "metadata": {},
   "outputs": [],
   "source": [
    "accuracy_list = []\n",
    "for i in range(2, 10):\n",
    "    res = made_cook_model(i)\n",
    "    res['actual'] = validation_will_cook_combined['will_cook']\n",
    "    pred = res[['actual',  'will_cook']]\n",
    "    accuracy_list.append(calculate_accuracy(pred))"
   ]
  },
  {
   "cell_type": "code",
   "execution_count": 226,
   "id": "54ccd466",
   "metadata": {},
   "outputs": [
    {
     "data": {
      "text/plain": [
       "[69.47,\n",
       " 64.7155,\n",
       " 61.55500000000001,\n",
       " 59.399,\n",
       " 57.8825,\n",
       " 56.8365,\n",
       " 56.007,\n",
       " 55.364000000000004]"
      ]
     },
     "execution_count": 226,
     "metadata": {},
     "output_type": "execute_result"
    }
   ],
   "source": [
    "accuracy_list"
   ]
  },
  {
   "cell_type": "code",
   "execution_count": 227,
   "id": "44a87a02",
   "metadata": {},
   "outputs": [],
   "source": [
    "accuracy_list = []\n",
    "for i in [3/2,4/3,5/4,6/5,7/6,8/7,9/8,10/9]:\n",
    "    res = made_cook_model(i)\n",
    "    res['actual'] = validation_will_cook_combined['will_cook']\n",
    "    pred = res[['actual',  'will_cook']]\n",
    "    accuracy_list.append(calculate_accuracy(pred))"
   ]
  },
  {
   "cell_type": "code",
   "execution_count": 228,
   "id": "1fcfcc11",
   "metadata": {},
   "outputs": [
    {
     "data": {
      "text/plain": [
       "[71.273, 70.34, 68.7355, 67.63550000000001, 66.447, 64.3985, 62.761, 61.5]"
      ]
     },
     "execution_count": 228,
     "metadata": {},
     "output_type": "execute_result"
    }
   ],
   "source": [
    "accuracy_list"
   ]
  },
  {
   "cell_type": "code",
   "execution_count": 229,
   "id": "de9b6c9c",
   "metadata": {},
   "outputs": [],
   "source": [
    "#dividing by 3/2, eg. including 66.66 percent of data gave the best accuracy"
   ]
  },
  {
   "cell_type": "code",
   "execution_count": 230,
   "id": "7ea3c316",
   "metadata": {},
   "outputs": [],
   "source": [
    "train_id = train[['recipe_id', \"user_id\"]].reset_index(drop = True)\n"
   ]
  },
  {
   "cell_type": "code",
   "execution_count": 231,
   "id": "97935eee",
   "metadata": {},
   "outputs": [],
   "source": [
    "#QUESTION 3\n",
    "usersPerRecipe = defaultdict(set) # Maps an item to the users who rated it\n",
    "recipePerUser = defaultdict(set) # Maps a user to the items that they rated\n",
    "recipeNames = {}\n",
    "\n",
    "\n",
    "for d in range(0,train_id.shape[0]):\n",
    "    user,recipe = train_id['user_id'][d], train_id['recipe_id'][d]\n",
    "    usersPerRecipe[recipe].add(user)\n",
    "    recipePerUser[user].add(recipe)\n",
    "\n",
    "def Jaccard(s1, s2):\n",
    "    numer = len(s1.intersection(s2))\n",
    "    denom = len(s1.union(s2))\n",
    "    if denom == 0:\n",
    "        return 0\n",
    "    return numer / denom\n",
    "\n",
    "def jaccardModel(u,r,N):\n",
    "    similarities = set()\n",
    "    users = usersPerRecipe[r]\n",
    "    recipes_u_has_cooked = recipePerUser[u]\n",
    "    for r2 in recipes_u_has_cooked:\n",
    "        if r2 == r: continue\n",
    "        sim = Jaccard(users, usersPerRecipe[r2])\n",
    "        similarities.add(abs(sim))\n",
    "    if len(similarities) == 0: return 0\n",
    "    if max(similarities) > N:\n",
    "        return 1\n",
    "    else:\n",
    "        return 0\n",
    "        \n",
    "    \n",
    "    \n",
    "    "
   ]
  },
  {
   "cell_type": "code",
   "execution_count": 232,
   "id": "3dcab5bb",
   "metadata": {},
   "outputs": [],
   "source": [
    "def claculate_pred(df,N):\n",
    "    pred = []\n",
    "    for i in range(df.shape[0]):\n",
    "        pred.append(jaccardModel(df['user_id'][i], df['recipe_id'][i],N))\n",
    "    return pred\n",
    "   "
   ]
  },
  {
   "cell_type": "code",
   "execution_count": 233,
   "id": "ebc8a08c",
   "metadata": {},
   "outputs": [],
   "source": [
    "pred= claculate_pred(validation_will_cook_combined,0.01)\n"
   ]
  },
  {
   "cell_type": "code",
   "execution_count": 234,
   "id": "867f2f3a",
   "metadata": {},
   "outputs": [
    {
     "data": {
      "text/plain": [
       "59.239"
      ]
     },
     "execution_count": 234,
     "metadata": {},
     "output_type": "execute_result"
    }
   ],
   "source": [
    "df = pd.DataFrame(list(zip(list(validation_will_cook_combined['will_cook']), pred)),columns =['actual', 'will_cook'])\n",
    "calculate_accuracy(df)"
   ]
  },
  {
   "cell_type": "code",
   "execution_count": 235,
   "id": "d9e910f9",
   "metadata": {},
   "outputs": [],
   "source": [
    "#QUESTION 4\n",
    "\n",
    "recipeCount = defaultdict(int)\n",
    "totalCooked = 0\n",
    "\n",
    "for user,recipe,_ in readCSV(os.path.join('data', 'trainInteractions.csv.gz')):\n",
    "    recipeCount[recipe] += 1\n",
    "    totalCooked += 1\n",
    "\n",
    "mostPopular = [(recipeCount[x], x) for x in recipeCount]\n",
    "mostPopular.sort()\n",
    "mostPopular.reverse()\n",
    "\n",
    "return1 = set()\n",
    "count = 0\n",
    "for ic, i in mostPopular:\n",
    "    count += ic\n",
    "    return1.add(int(i))\n",
    "    if count > totalCooked/(3/2): break\n",
    "\n",
    "#RUN THROUGH JACCARD FIRST, IF THE JACARD VALUE IS 0, CHECK POPULARITY        \n",
    "def jaccardPopularModel1(u,r,N):      \n",
    "    similarities = set()\n",
    "    users = usersPerRecipe[r]\n",
    "    recipes_u_has_cooked = recipePerUser[u]\n",
    "    for r2 in recipes_u_has_cooked:\n",
    "        if r2 == r: continue\n",
    "        sim = Jaccard(users, usersPerRecipe[r2])\n",
    "        similarities.add(abs(sim))\n",
    "    if len(similarities) == 0:\n",
    "        if r in return1:\n",
    "            return 1\n",
    "        else: return 0\n",
    "    if max(similarities) > N:\n",
    "        return 1\n",
    "    else:\n",
    "        return 0"
   ]
  },
  {
   "cell_type": "code",
   "execution_count": 236,
   "id": "e80f645b",
   "metadata": {},
   "outputs": [],
   "source": [
    "def claculate_pred(df,N):\n",
    "    pred = []\n",
    "    for i in range(df.shape[0]):\n",
    "        pred.append(jaccardPopularModel1(df['user_id'][i], df['recipe_id'][i],N))\n",
    "    return pred\n",
    "\n",
    "pred= claculate_pred(validation_will_cook_combined,0.01)"
   ]
  },
  {
   "cell_type": "code",
   "execution_count": 237,
   "id": "f1035cea",
   "metadata": {},
   "outputs": [
    {
     "data": {
      "text/plain": [
       "59.2905"
      ]
     },
     "execution_count": 237,
     "metadata": {},
     "output_type": "execute_result"
    }
   ],
   "source": [
    "df = pd.DataFrame(list(zip(list(validation_will_cook_combined['will_cook']), pred)),columns =['actual', 'will_cook'])\n",
    "calculate_accuracy(df)"
   ]
  },
  {
   "cell_type": "code",
   "execution_count": 238,
   "id": "398f227a",
   "metadata": {},
   "outputs": [
    {
     "data": {
      "text/plain": [
       "62.041500000000006"
      ]
     },
     "execution_count": 238,
     "metadata": {},
     "output_type": "execute_result"
    }
   ],
   "source": [
    "#RUN THROUGH POPULARITY, IF THE RECIPE IS NOT POPULAR THEN DO A JACCARD SIMILARITY\n",
    "def jaccardPopularModel2(u,r,N): \n",
    "    if r in return1:\n",
    "        return 1\n",
    "    similarities = set()\n",
    "    users = usersPerRecipe[r]\n",
    "    recipes_u_has_cooked = recipePerUser[u]\n",
    "    for r2 in recipes_u_has_cooked:\n",
    "        if r2 == r: continue\n",
    "        sim = Jaccard(users, usersPerRecipe[r2])\n",
    "        similarities.add(abs(sim))\n",
    "    if len(similarities) == 0:\n",
    "        return 0\n",
    "    if max(similarities) > N:\n",
    "        return 1\n",
    "    else:\n",
    "        return 0\n",
    "    \n",
    "def claculate_pred(df,N):\n",
    "    pred = []\n",
    "    for i in range(df.shape[0]):\n",
    "        pred.append(jaccardPopularModel2(df['user_id'][i], df['recipe_id'][i],N))\n",
    "    return pred\n",
    "\n",
    "pred= claculate_pred(validation_will_cook_combined,0.01)\n",
    "\n",
    "df = pd.DataFrame(list(zip(list(validation_will_cook_combined['will_cook']), pred)),columns =['actual', 'will_cook'])\n",
    "calculate_accuracy(df)"
   ]
  },
  {
   "cell_type": "code",
   "execution_count": 239,
   "id": "34d0c3eb",
   "metadata": {},
   "outputs": [],
   "source": [
    "#Running through the popularity model and then checking the Jaccard similarity \n",
    "#after it determines that its not popular seems to give the best result.\n",
    "# This can however be improved by simutaneously looking at both models and improving the thresholds"
   ]
  },
  {
   "cell_type": "code",
   "execution_count": 240,
   "id": "7e5fa091",
   "metadata": {},
   "outputs": [],
   "source": [
    "#QUESTION 5\n",
    "\n",
    "user_recipe_pair = []\n",
    "for l in open(os.path.join('data', \"stub_Made.txt\")):\n",
    "    if l.startswith(\"user_id\"):continue\n",
    "    u,i = l.strip().split('-')\n",
    "    user_recipe_pair.append((u,i))\n",
    "    \n",
    "test = pd.DataFrame(user_recipe_pair, columns = ['user_id', 'recipe_id'])\n",
    "test['user_id'] = test['user_id'].apply(int)\n",
    "test['recipe_id'] = test['recipe_id'].apply(int)\n"
   ]
  },
  {
   "cell_type": "code",
   "execution_count": 241,
   "id": "9ad3bff1",
   "metadata": {},
   "outputs": [],
   "source": [
    "def claculate_pred(df,N):\n",
    "    pred = []\n",
    "    for i in range(df.shape[0]):\n",
    "        pred.append(jaccardPopularModel2(df['user_id'][i], df['recipe_id'][i],N))\n",
    "    return pred\n",
    "\n",
    "pred= claculate_pred(test,0.01)\n"
   ]
  },
  {
   "cell_type": "code",
   "execution_count": 242,
   "id": "4ef0f566",
   "metadata": {
    "scrolled": true
   },
   "outputs": [
    {
     "data": {
      "text/plain": [
       "10875"
      ]
     },
     "execution_count": 242,
     "metadata": {},
     "output_type": "execute_result"
    }
   ],
   "source": [
    "sum(pred)"
   ]
  },
  {
   "cell_type": "code",
   "execution_count": 243,
   "id": "b53413c0",
   "metadata": {},
   "outputs": [
    {
     "data": {
      "text/html": [
       "<div>\n",
       "<style scoped>\n",
       "    .dataframe tbody tr th:only-of-type {\n",
       "        vertical-align: middle;\n",
       "    }\n",
       "\n",
       "    .dataframe tbody tr th {\n",
       "        vertical-align: top;\n",
       "    }\n",
       "\n",
       "    .dataframe thead th {\n",
       "        text-align: right;\n",
       "    }\n",
       "</style>\n",
       "<table border=\"1\" class=\"dataframe\">\n",
       "  <thead>\n",
       "    <tr style=\"text-align: right;\">\n",
       "      <th></th>\n",
       "      <th>user_id</th>\n",
       "      <th>recipe_id</th>\n",
       "      <th>cook</th>\n",
       "    </tr>\n",
       "  </thead>\n",
       "  <tbody>\n",
       "    <tr>\n",
       "      <th>0</th>\n",
       "      <td>23872231</td>\n",
       "      <td>98373850</td>\n",
       "      <td>0</td>\n",
       "    </tr>\n",
       "    <tr>\n",
       "      <th>1</th>\n",
       "      <td>19934813</td>\n",
       "      <td>86257276</td>\n",
       "      <td>1</td>\n",
       "    </tr>\n",
       "    <tr>\n",
       "      <th>2</th>\n",
       "      <td>96078190</td>\n",
       "      <td>35608339</td>\n",
       "      <td>0</td>\n",
       "    </tr>\n",
       "    <tr>\n",
       "      <th>3</th>\n",
       "      <td>18107115</td>\n",
       "      <td>2502174</td>\n",
       "      <td>0</td>\n",
       "    </tr>\n",
       "    <tr>\n",
       "      <th>4</th>\n",
       "      <td>57470081</td>\n",
       "      <td>20443676</td>\n",
       "      <td>0</td>\n",
       "    </tr>\n",
       "    <tr>\n",
       "      <th>...</th>\n",
       "      <td>...</td>\n",
       "      <td>...</td>\n",
       "      <td>...</td>\n",
       "    </tr>\n",
       "    <tr>\n",
       "      <th>19995</th>\n",
       "      <td>11943204</td>\n",
       "      <td>27685220</td>\n",
       "      <td>1</td>\n",
       "    </tr>\n",
       "    <tr>\n",
       "      <th>19996</th>\n",
       "      <td>27612552</td>\n",
       "      <td>70864986</td>\n",
       "      <td>1</td>\n",
       "    </tr>\n",
       "    <tr>\n",
       "      <th>19997</th>\n",
       "      <td>39776297</td>\n",
       "      <td>45646968</td>\n",
       "      <td>1</td>\n",
       "    </tr>\n",
       "    <tr>\n",
       "      <th>19998</th>\n",
       "      <td>25489508</td>\n",
       "      <td>91585618</td>\n",
       "      <td>0</td>\n",
       "    </tr>\n",
       "    <tr>\n",
       "      <th>19999</th>\n",
       "      <td>21194945</td>\n",
       "      <td>99644329</td>\n",
       "      <td>0</td>\n",
       "    </tr>\n",
       "  </tbody>\n",
       "</table>\n",
       "<p>20000 rows × 3 columns</p>\n",
       "</div>"
      ],
      "text/plain": [
       "        user_id  recipe_id  cook\n",
       "0      23872231   98373850     0\n",
       "1      19934813   86257276     1\n",
       "2      96078190   35608339     0\n",
       "3      18107115    2502174     0\n",
       "4      57470081   20443676     0\n",
       "...         ...        ...   ...\n",
       "19995  11943204   27685220     1\n",
       "19996  27612552   70864986     1\n",
       "19997  39776297   45646968     1\n",
       "19998  25489508   91585618     0\n",
       "19999  21194945   99644329     0\n",
       "\n",
       "[20000 rows x 3 columns]"
      ]
     },
     "execution_count": 243,
     "metadata": {},
     "output_type": "execute_result"
    }
   ],
   "source": [
    "test['cook'] = pred\n",
    "test"
   ]
  },
  {
   "cell_type": "code",
   "execution_count": 244,
   "id": "ad7ef6d4",
   "metadata": {},
   "outputs": [],
   "source": [
    "predictions = open(\"predictions_Made.txt\", 'w')\n",
    "for l in open(os.path.join('data', \"stub_Made.txt\")):\n",
    "    if l.startswith(\"user_id\"):\n",
    "        #header\n",
    "        predictions.write(l)\n",
    "        continue\n",
    "    u,i = l.strip().split('-')\n",
    "    predictions.write(u + '-' + i + \",\" + str(jaccardPopularModel2(int(u), int(i),0.01)) + \"\\n\")\n",
    "predictions.close()\n",
    "                      \n",
    "#Kaggle Username: xXepicgamergirl_69Xx (nice.)                      "
   ]
  },
  {
   "cell_type": "code",
   "execution_count": 245,
   "id": "aa100d54",
   "metadata": {},
   "outputs": [],
   "source": [
    "#QUESTION 6\n",
    "\n",
    "X = []\n",
    "\n",
    "for d in readGz(os.path.join('data', \"trainRecipes.json.gz\")): \n",
    "    X.append([d['steps'], d['minutes']])"
   ]
  },
  {
   "cell_type": "code",
   "execution_count": 246,
   "id": "925fc1fb",
   "metadata": {},
   "outputs": [],
   "source": [
    "steps = pd.DataFrame(X, columns = ['steps', 'minutes'])"
   ]
  },
  {
   "cell_type": "code",
   "execution_count": 247,
   "id": "e4f9d768",
   "metadata": {},
   "outputs": [],
   "source": [
    "train = steps[0:190000]\n",
    "validation = steps[190000:]"
   ]
  },
  {
   "cell_type": "code",
   "execution_count": 248,
   "id": "994b7489",
   "metadata": {},
   "outputs": [],
   "source": [
    "def formatWords(df):\n",
    "    df['steps'] = df['steps'].apply(lambda x: re.sub(\"[^0-9a-zA-Z]+\",\" \", x).lower())\n",
    "    return df\n"
   ]
  },
  {
   "cell_type": "code",
   "execution_count": 249,
   "id": "ba737481",
   "metadata": {},
   "outputs": [
    {
     "name": "stderr",
     "output_type": "stream",
     "text": [
      "<ipython-input-248-361c38885ec0>:2: SettingWithCopyWarning: \n",
      "A value is trying to be set on a copy of a slice from a DataFrame.\n",
      "Try using .loc[row_indexer,col_indexer] = value instead\n",
      "\n",
      "See the caveats in the documentation: https://pandas.pydata.org/pandas-docs/stable/user_guide/indexing.html#returning-a-view-versus-a-copy\n",
      "  df['steps'] = df['steps'].apply(lambda x: re.sub(\"[^0-9a-zA-Z]+\",\" \", x).lower())\n"
     ]
    }
   ],
   "source": [
    "trainFormatted = formatWords(train)"
   ]
  },
  {
   "cell_type": "code",
   "execution_count": 250,
   "id": "eb0804b1",
   "metadata": {},
   "outputs": [],
   "source": [
    "countVec = CountVectorizer(ngram_range=(1,1), max_features = 1000, tokenizer=lambda txt: txt.split())\n",
    "#transform\n",
    "countData = countVec.fit_transform(trainFormatted['steps'])\n",
    " \n",
    "#create dataframe\n",
    "cvDataframe=pd.DataFrame(countData.toarray(),columns=countVec.get_feature_names())\n"
   ]
  },
  {
   "cell_type": "code",
   "execution_count": 251,
   "id": "658f5d68",
   "metadata": {},
   "outputs": [
    {
     "data": {
      "text/plain": [
       "and        931712\n",
       "the        866806\n",
       "in         488266\n",
       "a          473406\n",
       "to         469849\n",
       "with       313578\n",
       "until      284239\n",
       "add        259497\n",
       "minutes    240162\n",
       "of         235831\n",
       "dtype: int64"
      ]
     },
     "execution_count": 251,
     "metadata": {},
     "output_type": "execute_result"
    }
   ],
   "source": [
    "cvDataframe.sum().sort_values(ascending = False)[:10]"
   ]
  },
  {
   "cell_type": "code",
   "execution_count": 252,
   "id": "78eb4081",
   "metadata": {},
   "outputs": [],
   "source": [
    "#QUESTION 7"
   ]
  },
  {
   "cell_type": "code",
   "execution_count": 253,
   "id": "fad4eb0f",
   "metadata": {},
   "outputs": [
    {
     "data": {
      "text/plain": [
       "LinearRegression()"
      ]
     },
     "execution_count": 253,
     "metadata": {},
     "output_type": "execute_result"
    }
   ],
   "source": [
    "regr = linear_model.LinearRegression()\n",
    "regr.fit(cvDataframe, train['minutes'])\n"
   ]
  },
  {
   "cell_type": "code",
   "execution_count": 254,
   "id": "c1ca0ddf",
   "metadata": {},
   "outputs": [
    {
     "name": "stderr",
     "output_type": "stream",
     "text": [
      "<ipython-input-248-361c38885ec0>:2: SettingWithCopyWarning: \n",
      "A value is trying to be set on a copy of a slice from a DataFrame.\n",
      "Try using .loc[row_indexer,col_indexer] = value instead\n",
      "\n",
      "See the caveats in the documentation: https://pandas.pydata.org/pandas-docs/stable/user_guide/indexing.html#returning-a-view-versus-a-copy\n",
      "  df['steps'] = df['steps'].apply(lambda x: re.sub(\"[^0-9a-zA-Z]+\",\" \", x).lower())\n"
     ]
    }
   ],
   "source": [
    "validationFormatted = formatWords(validation)\n",
    "\n",
    "countVecValid = CountVectorizer(ngram_range=(1,1), max_features = 1000, tokenizer=lambda txt: txt.split())\n",
    "#transform\n",
    "countDataValid = countVecValid.fit_transform(validationFormatted['steps'])\n",
    " \n",
    "#create dataframe\n",
    "cvDataframe=pd.DataFrame(countDataValid.toarray(),columns=countVecValid.get_feature_names())\n"
   ]
  },
  {
   "cell_type": "code",
   "execution_count": 255,
   "id": "182266df",
   "metadata": {},
   "outputs": [
    {
     "data": {
      "text/plain": [
       "7503.729766534698"
      ]
     },
     "execution_count": 255,
     "metadata": {},
     "output_type": "execute_result"
    }
   ],
   "source": [
    "MSE = np.mean((validation['minutes'] - regr.predict(cvDataframe))**2)\n",
    "MSE"
   ]
  },
  {
   "cell_type": "code",
   "execution_count": 256,
   "id": "91b894fd",
   "metadata": {},
   "outputs": [
    {
     "name": "stderr",
     "output_type": "stream",
     "text": [
      "<ipython-input-248-361c38885ec0>:2: SettingWithCopyWarning: \n",
      "A value is trying to be set on a copy of a slice from a DataFrame.\n",
      "Try using .loc[row_indexer,col_indexer] = value instead\n",
      "\n",
      "See the caveats in the documentation: https://pandas.pydata.org/pandas-docs/stable/user_guide/indexing.html#returning-a-view-versus-a-copy\n",
      "  df['steps'] = df['steps'].apply(lambda x: re.sub(\"[^0-9a-zA-Z]+\",\" \", x).lower())\n"
     ]
    },
    {
     "data": {
      "text/plain": [
       "4032.469132231415"
      ]
     },
     "execution_count": 256,
     "metadata": {},
     "output_type": "execute_result"
    }
   ],
   "source": [
    "#QUESTION 8\n",
    "\n",
    "countVec = CountVectorizer(ngram_range=(1,1), max_features = 100, tokenizer=lambda txt: txt.split(), stop_words = 'english')\n",
    "#transform\n",
    "countData = countVec.fit_transform(trainFormatted['steps'])\n",
    " \n",
    "#create dataframe\n",
    "cvDataframeTrain=pd.DataFrame(countData.toarray(),columns=countVec.get_feature_names())\n",
    "#cvDataframeTrain = cvDataframeTrain.reindex(columns=cvDataframeTrain.sum().sort_values(ascending = False).index).iloc[10:110]\n",
    "\n",
    "\n",
    "#regr = linear_model.LinearRegression()\n",
    "regr = linear_model.Ridge(alpha = 50)\n",
    "regr.fit(cvDataframeTrain, train['minutes'])\n",
    "\n",
    "\n",
    "\n",
    "\n",
    "validationFormatted = formatWords(validation)\n",
    "\n",
    "\n",
    "countDataValid = countVec.fit_transform(validationFormatted['steps'])\n",
    " \n",
    "#create dataframe\n",
    "cvDataframe=pd.DataFrame(countDataValid.toarray(),columns=countVec.get_feature_names())\n",
    "#cvDataframe = cvDataframe.reindex(columns=cvDataframe.sum().sort_values(ascending = False).index).iloc[10:110]\n",
    "\n",
    "\n",
    "MSE = np.mean((validation['minutes'] - regr.predict(cvDataframe))**2)\n",
    "MSE\n"
   ]
  },
  {
   "cell_type": "code",
   "execution_count": 257,
   "id": "1bdc568a",
   "metadata": {},
   "outputs": [
    {
     "data": {
      "text/plain": [
       "GridSearchCV(cv=5, estimator=Ridge(alpha=50),\n",
       "             param_grid={'alpha': [0.001, 0.01, 0.1, 1, 10, 20, 30, 40, 50, 100,\n",
       "                                   150, 120]})"
      ]
     },
     "execution_count": 257,
     "metadata": {},
     "output_type": "execute_result"
    }
   ],
   "source": [
    "parameters = {\n",
    "    'alpha': [0.001, 0.01, 0.1, 1, 10, 20, 30, 40, 50, 100, 150, 120],\n",
    "\n",
    "}\n",
    "clf = GridSearchCV(regr, parameters, cv = 5)\n",
    "clf.fit(cvDataframe, validation['minutes'])"
   ]
  },
  {
   "cell_type": "code",
   "execution_count": 258,
   "id": "a460c9bf",
   "metadata": {},
   "outputs": [
    {
     "data": {
      "text/plain": [
       "{'alpha': 50}"
      ]
     },
     "execution_count": 258,
     "metadata": {},
     "output_type": "execute_result"
    }
   ],
   "source": [
    "clf.best_params_"
   ]
  },
  {
   "cell_type": "code",
   "execution_count": 259,
   "id": "56148b4a",
   "metadata": {},
   "outputs": [],
   "source": [
    "XTest = []\n",
    "\n",
    "for d in readGz(os.path.join('data', \"testRecipes.json.gz\")): \n",
    "    XTest.append([d['steps'], d['recipe_id']])\n",
    "    \n",
    "stepsTest = pd.DataFrame(XTest, columns = ['steps', 'recipe_id'])"
   ]
  },
  {
   "cell_type": "code",
   "execution_count": 260,
   "id": "315332cb",
   "metadata": {},
   "outputs": [],
   "source": [
    "stepsTestFormatted = formatWords(stepsTest)"
   ]
  },
  {
   "cell_type": "code",
   "execution_count": 263,
   "id": "8124bda7",
   "metadata": {},
   "outputs": [],
   "source": [
    "countDataTest = countVec.fit_transform(stepsTestFormatted['steps'])\n",
    "cvDataframeTest = pd.DataFrame(countData.toarray(),columns=countVec.get_feature_names())\n",
    "\n",
    "stepsTestFormatted['pred'] = regr.predict(countDataTest)"
   ]
  },
  {
   "cell_type": "code",
   "execution_count": 264,
   "id": "a17b6dd3",
   "metadata": {},
   "outputs": [],
   "source": [
    "predictions = open(\"predictions_Minutes.txt\", 'w')\n",
    "predictions.write(\"recipe_id,prediction\\n\")\n",
    "for n in range(0, stepsTestFormatted.shape[0]):\n",
    "    predictions.write(stepsTestFormatted['recipe_id'].iloc[n] + ',' + str(stepsTestFormatted['pred'].iloc[n]) + '\\n')\n",
    "predictions.close()\n"
   ]
  },
  {
   "cell_type": "code",
   "execution_count": null,
   "id": "9393d79b",
   "metadata": {},
   "outputs": [],
   "source": []
  }
 ],
 "metadata": {
  "kernelspec": {
   "display_name": "Python 3",
   "language": "python",
   "name": "python3"
  },
  "language_info": {
   "codemirror_mode": {
    "name": "ipython",
    "version": 3
   },
   "file_extension": ".py",
   "mimetype": "text/x-python",
   "name": "python",
   "nbconvert_exporter": "python",
   "pygments_lexer": "ipython3",
   "version": "3.8.8"
  }
 },
 "nbformat": 4,
 "nbformat_minor": 5
}
